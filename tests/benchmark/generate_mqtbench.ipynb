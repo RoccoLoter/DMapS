{
 "cells": [
  {
   "cell_type": "code",
   "execution_count": 3,
   "metadata": {},
   "outputs": [],
   "source": [
    "from mqt.bench import get_benchmark\n",
    "from pathlib import Path\n",
    "from gen_qaoa import qaoa\n",
    "from dj import dj_algorithm\n",
    "from qiskit.circuit.library import QFT\n",
    "from qiskit.circuit.equivalence_library import StandardEquivalenceLibrary as sel\n",
    "from qiskit.transpiler import PassManager\n",
    "from qiskit.transpiler.passes import Decompose, BasisTranslator\n",
    "from qiskit import QuantumCircuit\n",
    "\n"
   ]
  },
  {
   "cell_type": "markdown",
   "metadata": {},
   "source": [
    "## DJ\n"
   ]
  },
  {
   "cell_type": "code",
   "execution_count": 4,
   "metadata": {},
   "outputs": [],
   "source": [
    "\n",
    "from pathlib import Path\n",
    "obj_qasm_fp = Path(\"/home/lty/workbench/quantum_compilation/quantum-chip-network/tests/code_verify/origin_qasms/dj_n10.qasm\")\n",
    "dj_n50_qc = get_benchmark(benchmark_name=\"dj\", level=\"indep\", circuit_size=10)\n",
    "basis_gates = [\"rz\", \"h\", \"x\", \"cx\", \"sx\"]\n",
    "translator = BasisTranslator(sel, basis_gates)\n",
    "out_dj_n50_qc = translator(dj_n50_qc)\n",
    "with open(obj_qasm_fp, \"w\") as f:\n",
    "    f.write(out_dj_n50_qc.qasm())"
   ]
  },
  {
   "cell_type": "code",
   "execution_count": 2,
   "metadata": {},
   "outputs": [],
   "source": [
    "# DJ_n50\n",
    "obj_qasm_fp = Path(\"/home/lty/workbench/quantum_compilation/quantum-chip-network/tests/benchmark/Bench/Dis_Bench/zcz/dj_n50/dj_n50.qasm\")\n",
    "dj_n50_qc = get_benchmark(benchmark_name=\"dj\", level=\"indep\", circuit_size=50)\n",
    "basis_gates = [\"rz\", \"h\", \"x\", \"cx\", \"sx\"]\n",
    "translator = BasisTranslator(sel, basis_gates)\n",
    "out_dj_n50_qc = translator(dj_n50_qc)\n",
    "with open(obj_qasm_fp, \"w\") as f:\n",
    "    f.write(out_dj_n50_qc.qasm())"
   ]
  },
  {
   "cell_type": "code",
   "execution_count": 3,
   "metadata": {},
   "outputs": [],
   "source": [
    "# DJ_n150\n",
    "obj_qasm_fp = Path(\"/home/lty/workbench/quantum_compilation/quantum-chip-network/tests/benchmark/Bench/Dis_Bench/medium/dj_indep_150/dj_150.qasm\")\n",
    "dj_n150_qc = get_benchmark(benchmark_name=\"dj\", level=\"indep\", circuit_size=150)\n",
    "basis_gates = [\"rz\", \"h\", \"x\", \"cx\", \"sx\"]\n",
    "translator = BasisTranslator(sel, basis_gates)\n",
    "out_dj_n150_qc = translator(dj_n150_qc)\n",
    "with open(obj_qasm_fp, \"w\") as f:\n",
    "    f.write(out_dj_n150_qc.qasm())"
   ]
  },
  {
   "cell_type": "code",
   "execution_count": 4,
   "metadata": {},
   "outputs": [],
   "source": [
    "# DJ_n450\n",
    "\n",
    "obj_qasm_fp = Path(\"/home/lty/workbench/quantum_compilation/quantum-chip-network/tests/benchmark/Bench/Dis_Bench/large/dj_n450/dj_n450.qasm\")\n",
    "dj_n450_qc = get_benchmark(benchmark_name=\"dj\", level=\"indep\", circuit_size=450)\n",
    "basis_gates = [\"rz\", \"h\", \"x\", \"cx\", \"sx\"]\n",
    "translator = BasisTranslator(sel, basis_gates)\n",
    "out_dj_n450_qc = translator(dj_n450_qc)\n",
    "with open(obj_qasm_fp, \"w\") as f:\n",
    "    f.write(out_dj_n450_qc.qasm())"
   ]
  },
  {
   "cell_type": "markdown",
   "metadata": {},
   "source": [
    "## Adder"
   ]
  },
  {
   "cell_type": "code",
   "execution_count": null,
   "metadata": {},
   "outputs": [],
   "source": [
    "# Adder_n46\n",
    "qasm_fp = Path(\"/home/lty/workbench/quantum_compilation/quantum-chip-network/tests/benchmark/Bench/Dis_Bench/zcz/adder_n46/adder_n46.qasm\")\n",
    "ori_adder_n127_qc = QuantumCircuit.from_qasm_file(qasm_fp)\n",
    "basis_gates = [\"rz\", \"h\", \"x\", \"cx\", \"sx\"]\n",
    "translator = BasisTranslator(sel, basis_gates)\n",
    "out_adder_n127_qc = translator(ori_adder_n127_qc)\n",
    "with open(qasm_fp, \"w\") as f:\n",
    "    f.write(out_adder_n127_qc.qasm())\n"
   ]
  },
  {
   "cell_type": "code",
   "execution_count": 5,
   "metadata": {},
   "outputs": [],
   "source": [
    "# Adder_n127\n",
    "qasm_fp = Path(\"/home/lty/workbench/quantum_compilation/quantum-chip-network/tests/benchmark/Bench/Dis_Bench/medium/adder_n127/adder_n127.qasm\")\n",
    "ori_adder_n127_qc = QuantumCircuit.from_qasm_file(qasm_fp)\n",
    "basis_gates = [\"rz\", \"h\", \"x\", \"cx\", \"sx\"]\n",
    "translator = BasisTranslator(sel, basis_gates)\n",
    "out_adder_n127_qc = translator(ori_adder_n127_qc)\n",
    "with open(qasm_fp, \"w\") as f:\n",
    "    f.write(out_adder_n127_qc.qasm())"
   ]
  },
  {
   "cell_type": "markdown",
   "metadata": {},
   "source": [
    "## QuGAN"
   ]
  },
  {
   "cell_type": "code",
   "execution_count": null,
   "metadata": {},
   "outputs": [
    {
     "name": "stdout",
     "output_type": "stream",
     "text": [
      "[Qubit(QuantumRegister(45, 'q15'), 23), Qubit(QuantumRegister(45, 'q15'), 24), Qubit(QuantumRegister(45, 'q15'), 25), Qubit(QuantumRegister(45, 'q15'), 26), Qubit(QuantumRegister(45, 'q15'), 27), Qubit(QuantumRegister(45, 'q15'), 28), Qubit(QuantumRegister(45, 'q15'), 29), Qubit(QuantumRegister(45, 'q15'), 30), Qubit(QuantumRegister(45, 'q15'), 31), Qubit(QuantumRegister(45, 'q15'), 32), Qubit(QuantumRegister(45, 'q15'), 33), Qubit(QuantumRegister(45, 'q15'), 34), Qubit(QuantumRegister(45, 'q15'), 35), Qubit(QuantumRegister(45, 'q15'), 36), Qubit(QuantumRegister(45, 'q15'), 37), Qubit(QuantumRegister(45, 'q15'), 38), Qubit(QuantumRegister(45, 'q15'), 39), Qubit(QuantumRegister(45, 'q15'), 40), Qubit(QuantumRegister(45, 'q15'), 41), Qubit(QuantumRegister(45, 'q15'), 42), Qubit(QuantumRegister(45, 'q15'), 43), Qubit(QuantumRegister(45, 'q15'), 44)]\n",
      "[Clbit(ClassicalRegister(22, 'c3'), 0), Clbit(ClassicalRegister(22, 'c3'), 1), Clbit(ClassicalRegister(22, 'c3'), 2), Clbit(ClassicalRegister(22, 'c3'), 3), Clbit(ClassicalRegister(22, 'c3'), 4), Clbit(ClassicalRegister(22, 'c3'), 5), Clbit(ClassicalRegister(22, 'c3'), 6), Clbit(ClassicalRegister(22, 'c3'), 7), Clbit(ClassicalRegister(22, 'c3'), 8), Clbit(ClassicalRegister(22, 'c3'), 9), Clbit(ClassicalRegister(22, 'c3'), 10), Clbit(ClassicalRegister(22, 'c3'), 11), Clbit(ClassicalRegister(22, 'c3'), 12), Clbit(ClassicalRegister(22, 'c3'), 13), Clbit(ClassicalRegister(22, 'c3'), 14), Clbit(ClassicalRegister(22, 'c3'), 15), Clbit(ClassicalRegister(22, 'c3'), 16), Clbit(ClassicalRegister(22, 'c3'), 17), Clbit(ClassicalRegister(22, 'c3'), 18), Clbit(ClassicalRegister(22, 'c3'), 19), Clbit(ClassicalRegister(22, 'c3'), 20), Clbit(ClassicalRegister(22, 'c3'), 21)]\n"
     ]
    }
   ],
   "source": [
    "# qugan_n45\n",
    "from qugan import QuGAN\n",
    "qugan_n450_qasm_fp = Path(\"/home/lty/workbench/quantum_compilation/quantum-chip-network/tests/benchmark/Bench/Dis_Bench/zcz/qugan_n45/qugan_n45.qasm\")\n",
    "qugan_n450_qc = QuGAN(45).run()\n",
    "basis_gates = [\"rz\", \"h\", \"x\", \"cx\", \"sx\"]\n",
    "translator = BasisTranslator(sel, basis_gates)\n",
    "out_qugan_n450_qc = translator(qugan_n450_qc)\n",
    "with open(qugan_n450_qasm_fp, \"w\") as f:\n",
    "    f.write(out_qugan_n450_qc.qasm())"
   ]
  },
  {
   "cell_type": "code",
   "execution_count": null,
   "metadata": {},
   "outputs": [
    {
     "name": "stdout",
     "output_type": "stream",
     "text": [
      "[Qubit(QuantumRegister(130, 'q22'), 65), Qubit(QuantumRegister(130, 'q22'), 66), Qubit(QuantumRegister(130, 'q22'), 67), Qubit(QuantumRegister(130, 'q22'), 68), Qubit(QuantumRegister(130, 'q22'), 69), Qubit(QuantumRegister(130, 'q22'), 70), Qubit(QuantumRegister(130, 'q22'), 71), Qubit(QuantumRegister(130, 'q22'), 72), Qubit(QuantumRegister(130, 'q22'), 73), Qubit(QuantumRegister(130, 'q22'), 74), Qubit(QuantumRegister(130, 'q22'), 75), Qubit(QuantumRegister(130, 'q22'), 76), Qubit(QuantumRegister(130, 'q22'), 77), Qubit(QuantumRegister(130, 'q22'), 78), Qubit(QuantumRegister(130, 'q22'), 79), Qubit(QuantumRegister(130, 'q22'), 80), Qubit(QuantumRegister(130, 'q22'), 81), Qubit(QuantumRegister(130, 'q22'), 82), Qubit(QuantumRegister(130, 'q22'), 83), Qubit(QuantumRegister(130, 'q22'), 84), Qubit(QuantumRegister(130, 'q22'), 85), Qubit(QuantumRegister(130, 'q22'), 86), Qubit(QuantumRegister(130, 'q22'), 87), Qubit(QuantumRegister(130, 'q22'), 88), Qubit(QuantumRegister(130, 'q22'), 89), Qubit(QuantumRegister(130, 'q22'), 90), Qubit(QuantumRegister(130, 'q22'), 91), Qubit(QuantumRegister(130, 'q22'), 92), Qubit(QuantumRegister(130, 'q22'), 93), Qubit(QuantumRegister(130, 'q22'), 94), Qubit(QuantumRegister(130, 'q22'), 95), Qubit(QuantumRegister(130, 'q22'), 96), Qubit(QuantumRegister(130, 'q22'), 97), Qubit(QuantumRegister(130, 'q22'), 98), Qubit(QuantumRegister(130, 'q22'), 99), Qubit(QuantumRegister(130, 'q22'), 100), Qubit(QuantumRegister(130, 'q22'), 101), Qubit(QuantumRegister(130, 'q22'), 102), Qubit(QuantumRegister(130, 'q22'), 103), Qubit(QuantumRegister(130, 'q22'), 104), Qubit(QuantumRegister(130, 'q22'), 105), Qubit(QuantumRegister(130, 'q22'), 106), Qubit(QuantumRegister(130, 'q22'), 107), Qubit(QuantumRegister(130, 'q22'), 108), Qubit(QuantumRegister(130, 'q22'), 109), Qubit(QuantumRegister(130, 'q22'), 110), Qubit(QuantumRegister(130, 'q22'), 111), Qubit(QuantumRegister(130, 'q22'), 112), Qubit(QuantumRegister(130, 'q22'), 113), Qubit(QuantumRegister(130, 'q22'), 114), Qubit(QuantumRegister(130, 'q22'), 115), Qubit(QuantumRegister(130, 'q22'), 116), Qubit(QuantumRegister(130, 'q22'), 117), Qubit(QuantumRegister(130, 'q22'), 118), Qubit(QuantumRegister(130, 'q22'), 119), Qubit(QuantumRegister(130, 'q22'), 120), Qubit(QuantumRegister(130, 'q22'), 121), Qubit(QuantumRegister(130, 'q22'), 122), Qubit(QuantumRegister(130, 'q22'), 123), Qubit(QuantumRegister(130, 'q22'), 124), Qubit(QuantumRegister(130, 'q22'), 125), Qubit(QuantumRegister(130, 'q22'), 126), Qubit(QuantumRegister(130, 'q22'), 127), Qubit(QuantumRegister(130, 'q22'), 128), Qubit(QuantumRegister(130, 'q22'), 129)]\n",
      "[Clbit(ClassicalRegister(64, 'c4'), 0), Clbit(ClassicalRegister(64, 'c4'), 1), Clbit(ClassicalRegister(64, 'c4'), 2), Clbit(ClassicalRegister(64, 'c4'), 3), Clbit(ClassicalRegister(64, 'c4'), 4), Clbit(ClassicalRegister(64, 'c4'), 5), Clbit(ClassicalRegister(64, 'c4'), 6), Clbit(ClassicalRegister(64, 'c4'), 7), Clbit(ClassicalRegister(64, 'c4'), 8), Clbit(ClassicalRegister(64, 'c4'), 9), Clbit(ClassicalRegister(64, 'c4'), 10), Clbit(ClassicalRegister(64, 'c4'), 11), Clbit(ClassicalRegister(64, 'c4'), 12), Clbit(ClassicalRegister(64, 'c4'), 13), Clbit(ClassicalRegister(64, 'c4'), 14), Clbit(ClassicalRegister(64, 'c4'), 15), Clbit(ClassicalRegister(64, 'c4'), 16), Clbit(ClassicalRegister(64, 'c4'), 17), Clbit(ClassicalRegister(64, 'c4'), 18), Clbit(ClassicalRegister(64, 'c4'), 19), Clbit(ClassicalRegister(64, 'c4'), 20), Clbit(ClassicalRegister(64, 'c4'), 21), Clbit(ClassicalRegister(64, 'c4'), 22), Clbit(ClassicalRegister(64, 'c4'), 23), Clbit(ClassicalRegister(64, 'c4'), 24), Clbit(ClassicalRegister(64, 'c4'), 25), Clbit(ClassicalRegister(64, 'c4'), 26), Clbit(ClassicalRegister(64, 'c4'), 27), Clbit(ClassicalRegister(64, 'c4'), 28), Clbit(ClassicalRegister(64, 'c4'), 29), Clbit(ClassicalRegister(64, 'c4'), 30), Clbit(ClassicalRegister(64, 'c4'), 31), Clbit(ClassicalRegister(64, 'c4'), 32), Clbit(ClassicalRegister(64, 'c4'), 33), Clbit(ClassicalRegister(64, 'c4'), 34), Clbit(ClassicalRegister(64, 'c4'), 35), Clbit(ClassicalRegister(64, 'c4'), 36), Clbit(ClassicalRegister(64, 'c4'), 37), Clbit(ClassicalRegister(64, 'c4'), 38), Clbit(ClassicalRegister(64, 'c4'), 39), Clbit(ClassicalRegister(64, 'c4'), 40), Clbit(ClassicalRegister(64, 'c4'), 41), Clbit(ClassicalRegister(64, 'c4'), 42), Clbit(ClassicalRegister(64, 'c4'), 43), Clbit(ClassicalRegister(64, 'c4'), 44), Clbit(ClassicalRegister(64, 'c4'), 45), Clbit(ClassicalRegister(64, 'c4'), 46), Clbit(ClassicalRegister(64, 'c4'), 47), Clbit(ClassicalRegister(64, 'c4'), 48), Clbit(ClassicalRegister(64, 'c4'), 49), Clbit(ClassicalRegister(64, 'c4'), 50), Clbit(ClassicalRegister(64, 'c4'), 51), Clbit(ClassicalRegister(64, 'c4'), 52), Clbit(ClassicalRegister(64, 'c4'), 53), Clbit(ClassicalRegister(64, 'c4'), 54), Clbit(ClassicalRegister(64, 'c4'), 55), Clbit(ClassicalRegister(64, 'c4'), 56), Clbit(ClassicalRegister(64, 'c4'), 57), Clbit(ClassicalRegister(64, 'c4'), 58), Clbit(ClassicalRegister(64, 'c4'), 59), Clbit(ClassicalRegister(64, 'c4'), 60), Clbit(ClassicalRegister(64, 'c4'), 61), Clbit(ClassicalRegister(64, 'c4'), 62), Clbit(ClassicalRegister(64, 'c4'), 63)]\n"
     ]
    }
   ],
   "source": [
    "# qugan_n130\n",
    "from qugan import QuGAN\n",
    "qugan_n450_qasm_fp = Path(\"/home/lty/workbench/quantum_compilation/quantum-chip-network/tests/benchmark/Bench/Dis_Bench/medium/qugan_n130/qugan_n130.qasm\")\n",
    "qugan_n450_qc = QuGAN(130).run()\n",
    "basis_gates = [\"rz\", \"h\", \"x\", \"cx\", \"sx\"]\n",
    "translator = BasisTranslator(sel, basis_gates)\n",
    "out_qugan_n450_qc = translator(qugan_n450_qc)\n",
    "with open(qugan_n450_qasm_fp, \"w\") as f:\n",
    "    f.write(out_qugan_n450_qc.qasm())"
   ]
  },
  {
   "cell_type": "code",
   "execution_count": 7,
   "metadata": {},
   "outputs": [
    {
     "name": "stdout",
     "output_type": "stream",
     "text": [
      "[Qubit(QuantumRegister(450, 'q29'), 225), Qubit(QuantumRegister(450, 'q29'), 226), Qubit(QuantumRegister(450, 'q29'), 227), Qubit(QuantumRegister(450, 'q29'), 228), Qubit(QuantumRegister(450, 'q29'), 229), Qubit(QuantumRegister(450, 'q29'), 230), Qubit(QuantumRegister(450, 'q29'), 231), Qubit(QuantumRegister(450, 'q29'), 232), Qubit(QuantumRegister(450, 'q29'), 233), Qubit(QuantumRegister(450, 'q29'), 234), Qubit(QuantumRegister(450, 'q29'), 235), Qubit(QuantumRegister(450, 'q29'), 236), Qubit(QuantumRegister(450, 'q29'), 237), Qubit(QuantumRegister(450, 'q29'), 238), Qubit(QuantumRegister(450, 'q29'), 239), Qubit(QuantumRegister(450, 'q29'), 240), Qubit(QuantumRegister(450, 'q29'), 241), Qubit(QuantumRegister(450, 'q29'), 242), Qubit(QuantumRegister(450, 'q29'), 243), Qubit(QuantumRegister(450, 'q29'), 244), Qubit(QuantumRegister(450, 'q29'), 245), Qubit(QuantumRegister(450, 'q29'), 246), Qubit(QuantumRegister(450, 'q29'), 247), Qubit(QuantumRegister(450, 'q29'), 248), Qubit(QuantumRegister(450, 'q29'), 249), Qubit(QuantumRegister(450, 'q29'), 250), Qubit(QuantumRegister(450, 'q29'), 251), Qubit(QuantumRegister(450, 'q29'), 252), Qubit(QuantumRegister(450, 'q29'), 253), Qubit(QuantumRegister(450, 'q29'), 254), Qubit(QuantumRegister(450, 'q29'), 255), Qubit(QuantumRegister(450, 'q29'), 256), Qubit(QuantumRegister(450, 'q29'), 257), Qubit(QuantumRegister(450, 'q29'), 258), Qubit(QuantumRegister(450, 'q29'), 259), Qubit(QuantumRegister(450, 'q29'), 260), Qubit(QuantumRegister(450, 'q29'), 261), Qubit(QuantumRegister(450, 'q29'), 262), Qubit(QuantumRegister(450, 'q29'), 263), Qubit(QuantumRegister(450, 'q29'), 264), Qubit(QuantumRegister(450, 'q29'), 265), Qubit(QuantumRegister(450, 'q29'), 266), Qubit(QuantumRegister(450, 'q29'), 267), Qubit(QuantumRegister(450, 'q29'), 268), Qubit(QuantumRegister(450, 'q29'), 269), Qubit(QuantumRegister(450, 'q29'), 270), Qubit(QuantumRegister(450, 'q29'), 271), Qubit(QuantumRegister(450, 'q29'), 272), Qubit(QuantumRegister(450, 'q29'), 273), Qubit(QuantumRegister(450, 'q29'), 274), Qubit(QuantumRegister(450, 'q29'), 275), Qubit(QuantumRegister(450, 'q29'), 276), Qubit(QuantumRegister(450, 'q29'), 277), Qubit(QuantumRegister(450, 'q29'), 278), Qubit(QuantumRegister(450, 'q29'), 279), Qubit(QuantumRegister(450, 'q29'), 280), Qubit(QuantumRegister(450, 'q29'), 281), Qubit(QuantumRegister(450, 'q29'), 282), Qubit(QuantumRegister(450, 'q29'), 283), Qubit(QuantumRegister(450, 'q29'), 284), Qubit(QuantumRegister(450, 'q29'), 285), Qubit(QuantumRegister(450, 'q29'), 286), Qubit(QuantumRegister(450, 'q29'), 287), Qubit(QuantumRegister(450, 'q29'), 288), Qubit(QuantumRegister(450, 'q29'), 289), Qubit(QuantumRegister(450, 'q29'), 290), Qubit(QuantumRegister(450, 'q29'), 291), Qubit(QuantumRegister(450, 'q29'), 292), Qubit(QuantumRegister(450, 'q29'), 293), Qubit(QuantumRegister(450, 'q29'), 294), Qubit(QuantumRegister(450, 'q29'), 295), Qubit(QuantumRegister(450, 'q29'), 296), Qubit(QuantumRegister(450, 'q29'), 297), Qubit(QuantumRegister(450, 'q29'), 298), Qubit(QuantumRegister(450, 'q29'), 299), Qubit(QuantumRegister(450, 'q29'), 300), Qubit(QuantumRegister(450, 'q29'), 301), Qubit(QuantumRegister(450, 'q29'), 302), Qubit(QuantumRegister(450, 'q29'), 303), Qubit(QuantumRegister(450, 'q29'), 304), Qubit(QuantumRegister(450, 'q29'), 305), Qubit(QuantumRegister(450, 'q29'), 306), Qubit(QuantumRegister(450, 'q29'), 307), Qubit(QuantumRegister(450, 'q29'), 308), Qubit(QuantumRegister(450, 'q29'), 309), Qubit(QuantumRegister(450, 'q29'), 310), Qubit(QuantumRegister(450, 'q29'), 311), Qubit(QuantumRegister(450, 'q29'), 312), Qubit(QuantumRegister(450, 'q29'), 313), Qubit(QuantumRegister(450, 'q29'), 314), Qubit(QuantumRegister(450, 'q29'), 315), Qubit(QuantumRegister(450, 'q29'), 316), Qubit(QuantumRegister(450, 'q29'), 317), Qubit(QuantumRegister(450, 'q29'), 318), Qubit(QuantumRegister(450, 'q29'), 319), Qubit(QuantumRegister(450, 'q29'), 320), Qubit(QuantumRegister(450, 'q29'), 321), Qubit(QuantumRegister(450, 'q29'), 322), Qubit(QuantumRegister(450, 'q29'), 323), Qubit(QuantumRegister(450, 'q29'), 324), Qubit(QuantumRegister(450, 'q29'), 325), Qubit(QuantumRegister(450, 'q29'), 326), Qubit(QuantumRegister(450, 'q29'), 327), Qubit(QuantumRegister(450, 'q29'), 328), Qubit(QuantumRegister(450, 'q29'), 329), Qubit(QuantumRegister(450, 'q29'), 330), Qubit(QuantumRegister(450, 'q29'), 331), Qubit(QuantumRegister(450, 'q29'), 332), Qubit(QuantumRegister(450, 'q29'), 333), Qubit(QuantumRegister(450, 'q29'), 334), Qubit(QuantumRegister(450, 'q29'), 335), Qubit(QuantumRegister(450, 'q29'), 336), Qubit(QuantumRegister(450, 'q29'), 337), Qubit(QuantumRegister(450, 'q29'), 338), Qubit(QuantumRegister(450, 'q29'), 339), Qubit(QuantumRegister(450, 'q29'), 340), Qubit(QuantumRegister(450, 'q29'), 341), Qubit(QuantumRegister(450, 'q29'), 342), Qubit(QuantumRegister(450, 'q29'), 343), Qubit(QuantumRegister(450, 'q29'), 344), Qubit(QuantumRegister(450, 'q29'), 345), Qubit(QuantumRegister(450, 'q29'), 346), Qubit(QuantumRegister(450, 'q29'), 347), Qubit(QuantumRegister(450, 'q29'), 348), Qubit(QuantumRegister(450, 'q29'), 349), Qubit(QuantumRegister(450, 'q29'), 350), Qubit(QuantumRegister(450, 'q29'), 351), Qubit(QuantumRegister(450, 'q29'), 352), Qubit(QuantumRegister(450, 'q29'), 353), Qubit(QuantumRegister(450, 'q29'), 354), Qubit(QuantumRegister(450, 'q29'), 355), Qubit(QuantumRegister(450, 'q29'), 356), Qubit(QuantumRegister(450, 'q29'), 357), Qubit(QuantumRegister(450, 'q29'), 358), Qubit(QuantumRegister(450, 'q29'), 359), Qubit(QuantumRegister(450, 'q29'), 360), Qubit(QuantumRegister(450, 'q29'), 361), Qubit(QuantumRegister(450, 'q29'), 362), Qubit(QuantumRegister(450, 'q29'), 363), Qubit(QuantumRegister(450, 'q29'), 364), Qubit(QuantumRegister(450, 'q29'), 365), Qubit(QuantumRegister(450, 'q29'), 366), Qubit(QuantumRegister(450, 'q29'), 367), Qubit(QuantumRegister(450, 'q29'), 368), Qubit(QuantumRegister(450, 'q29'), 369), Qubit(QuantumRegister(450, 'q29'), 370), Qubit(QuantumRegister(450, 'q29'), 371), Qubit(QuantumRegister(450, 'q29'), 372), Qubit(QuantumRegister(450, 'q29'), 373), Qubit(QuantumRegister(450, 'q29'), 374), Qubit(QuantumRegister(450, 'q29'), 375), Qubit(QuantumRegister(450, 'q29'), 376), Qubit(QuantumRegister(450, 'q29'), 377), Qubit(QuantumRegister(450, 'q29'), 378), Qubit(QuantumRegister(450, 'q29'), 379), Qubit(QuantumRegister(450, 'q29'), 380), Qubit(QuantumRegister(450, 'q29'), 381), Qubit(QuantumRegister(450, 'q29'), 382), Qubit(QuantumRegister(450, 'q29'), 383), Qubit(QuantumRegister(450, 'q29'), 384), Qubit(QuantumRegister(450, 'q29'), 385), Qubit(QuantumRegister(450, 'q29'), 386), Qubit(QuantumRegister(450, 'q29'), 387), Qubit(QuantumRegister(450, 'q29'), 388), Qubit(QuantumRegister(450, 'q29'), 389), Qubit(QuantumRegister(450, 'q29'), 390), Qubit(QuantumRegister(450, 'q29'), 391), Qubit(QuantumRegister(450, 'q29'), 392), Qubit(QuantumRegister(450, 'q29'), 393), Qubit(QuantumRegister(450, 'q29'), 394), Qubit(QuantumRegister(450, 'q29'), 395), Qubit(QuantumRegister(450, 'q29'), 396), Qubit(QuantumRegister(450, 'q29'), 397), Qubit(QuantumRegister(450, 'q29'), 398), Qubit(QuantumRegister(450, 'q29'), 399), Qubit(QuantumRegister(450, 'q29'), 400), Qubit(QuantumRegister(450, 'q29'), 401), Qubit(QuantumRegister(450, 'q29'), 402), Qubit(QuantumRegister(450, 'q29'), 403), Qubit(QuantumRegister(450, 'q29'), 404), Qubit(QuantumRegister(450, 'q29'), 405), Qubit(QuantumRegister(450, 'q29'), 406), Qubit(QuantumRegister(450, 'q29'), 407), Qubit(QuantumRegister(450, 'q29'), 408), Qubit(QuantumRegister(450, 'q29'), 409), Qubit(QuantumRegister(450, 'q29'), 410), Qubit(QuantumRegister(450, 'q29'), 411), Qubit(QuantumRegister(450, 'q29'), 412), Qubit(QuantumRegister(450, 'q29'), 413), Qubit(QuantumRegister(450, 'q29'), 414), Qubit(QuantumRegister(450, 'q29'), 415), Qubit(QuantumRegister(450, 'q29'), 416), Qubit(QuantumRegister(450, 'q29'), 417), Qubit(QuantumRegister(450, 'q29'), 418), Qubit(QuantumRegister(450, 'q29'), 419), Qubit(QuantumRegister(450, 'q29'), 420), Qubit(QuantumRegister(450, 'q29'), 421), Qubit(QuantumRegister(450, 'q29'), 422), Qubit(QuantumRegister(450, 'q29'), 423), Qubit(QuantumRegister(450, 'q29'), 424), Qubit(QuantumRegister(450, 'q29'), 425), Qubit(QuantumRegister(450, 'q29'), 426), Qubit(QuantumRegister(450, 'q29'), 427), Qubit(QuantumRegister(450, 'q29'), 428), Qubit(QuantumRegister(450, 'q29'), 429), Qubit(QuantumRegister(450, 'q29'), 430), Qubit(QuantumRegister(450, 'q29'), 431), Qubit(QuantumRegister(450, 'q29'), 432), Qubit(QuantumRegister(450, 'q29'), 433), Qubit(QuantumRegister(450, 'q29'), 434), Qubit(QuantumRegister(450, 'q29'), 435), Qubit(QuantumRegister(450, 'q29'), 436), Qubit(QuantumRegister(450, 'q29'), 437), Qubit(QuantumRegister(450, 'q29'), 438), Qubit(QuantumRegister(450, 'q29'), 439), Qubit(QuantumRegister(450, 'q29'), 440), Qubit(QuantumRegister(450, 'q29'), 441), Qubit(QuantumRegister(450, 'q29'), 442), Qubit(QuantumRegister(450, 'q29'), 443), Qubit(QuantumRegister(450, 'q29'), 444), Qubit(QuantumRegister(450, 'q29'), 445), Qubit(QuantumRegister(450, 'q29'), 446), Qubit(QuantumRegister(450, 'q29'), 447), Qubit(QuantumRegister(450, 'q29'), 448), Qubit(QuantumRegister(450, 'q29'), 449)]\n",
      "[Clbit(ClassicalRegister(224, 'c5'), 0), Clbit(ClassicalRegister(224, 'c5'), 1), Clbit(ClassicalRegister(224, 'c5'), 2), Clbit(ClassicalRegister(224, 'c5'), 3), Clbit(ClassicalRegister(224, 'c5'), 4), Clbit(ClassicalRegister(224, 'c5'), 5), Clbit(ClassicalRegister(224, 'c5'), 6), Clbit(ClassicalRegister(224, 'c5'), 7), Clbit(ClassicalRegister(224, 'c5'), 8), Clbit(ClassicalRegister(224, 'c5'), 9), Clbit(ClassicalRegister(224, 'c5'), 10), Clbit(ClassicalRegister(224, 'c5'), 11), Clbit(ClassicalRegister(224, 'c5'), 12), Clbit(ClassicalRegister(224, 'c5'), 13), Clbit(ClassicalRegister(224, 'c5'), 14), Clbit(ClassicalRegister(224, 'c5'), 15), Clbit(ClassicalRegister(224, 'c5'), 16), Clbit(ClassicalRegister(224, 'c5'), 17), Clbit(ClassicalRegister(224, 'c5'), 18), Clbit(ClassicalRegister(224, 'c5'), 19), Clbit(ClassicalRegister(224, 'c5'), 20), Clbit(ClassicalRegister(224, 'c5'), 21), Clbit(ClassicalRegister(224, 'c5'), 22), Clbit(ClassicalRegister(224, 'c5'), 23), Clbit(ClassicalRegister(224, 'c5'), 24), Clbit(ClassicalRegister(224, 'c5'), 25), Clbit(ClassicalRegister(224, 'c5'), 26), Clbit(ClassicalRegister(224, 'c5'), 27), Clbit(ClassicalRegister(224, 'c5'), 28), Clbit(ClassicalRegister(224, 'c5'), 29), Clbit(ClassicalRegister(224, 'c5'), 30), Clbit(ClassicalRegister(224, 'c5'), 31), Clbit(ClassicalRegister(224, 'c5'), 32), Clbit(ClassicalRegister(224, 'c5'), 33), Clbit(ClassicalRegister(224, 'c5'), 34), Clbit(ClassicalRegister(224, 'c5'), 35), Clbit(ClassicalRegister(224, 'c5'), 36), Clbit(ClassicalRegister(224, 'c5'), 37), Clbit(ClassicalRegister(224, 'c5'), 38), Clbit(ClassicalRegister(224, 'c5'), 39), Clbit(ClassicalRegister(224, 'c5'), 40), Clbit(ClassicalRegister(224, 'c5'), 41), Clbit(ClassicalRegister(224, 'c5'), 42), Clbit(ClassicalRegister(224, 'c5'), 43), Clbit(ClassicalRegister(224, 'c5'), 44), Clbit(ClassicalRegister(224, 'c5'), 45), Clbit(ClassicalRegister(224, 'c5'), 46), Clbit(ClassicalRegister(224, 'c5'), 47), Clbit(ClassicalRegister(224, 'c5'), 48), Clbit(ClassicalRegister(224, 'c5'), 49), Clbit(ClassicalRegister(224, 'c5'), 50), Clbit(ClassicalRegister(224, 'c5'), 51), Clbit(ClassicalRegister(224, 'c5'), 52), Clbit(ClassicalRegister(224, 'c5'), 53), Clbit(ClassicalRegister(224, 'c5'), 54), Clbit(ClassicalRegister(224, 'c5'), 55), Clbit(ClassicalRegister(224, 'c5'), 56), Clbit(ClassicalRegister(224, 'c5'), 57), Clbit(ClassicalRegister(224, 'c5'), 58), Clbit(ClassicalRegister(224, 'c5'), 59), Clbit(ClassicalRegister(224, 'c5'), 60), Clbit(ClassicalRegister(224, 'c5'), 61), Clbit(ClassicalRegister(224, 'c5'), 62), Clbit(ClassicalRegister(224, 'c5'), 63), Clbit(ClassicalRegister(224, 'c5'), 64), Clbit(ClassicalRegister(224, 'c5'), 65), Clbit(ClassicalRegister(224, 'c5'), 66), Clbit(ClassicalRegister(224, 'c5'), 67), Clbit(ClassicalRegister(224, 'c5'), 68), Clbit(ClassicalRegister(224, 'c5'), 69), Clbit(ClassicalRegister(224, 'c5'), 70), Clbit(ClassicalRegister(224, 'c5'), 71), Clbit(ClassicalRegister(224, 'c5'), 72), Clbit(ClassicalRegister(224, 'c5'), 73), Clbit(ClassicalRegister(224, 'c5'), 74), Clbit(ClassicalRegister(224, 'c5'), 75), Clbit(ClassicalRegister(224, 'c5'), 76), Clbit(ClassicalRegister(224, 'c5'), 77), Clbit(ClassicalRegister(224, 'c5'), 78), Clbit(ClassicalRegister(224, 'c5'), 79), Clbit(ClassicalRegister(224, 'c5'), 80), Clbit(ClassicalRegister(224, 'c5'), 81), Clbit(ClassicalRegister(224, 'c5'), 82), Clbit(ClassicalRegister(224, 'c5'), 83), Clbit(ClassicalRegister(224, 'c5'), 84), Clbit(ClassicalRegister(224, 'c5'), 85), Clbit(ClassicalRegister(224, 'c5'), 86), Clbit(ClassicalRegister(224, 'c5'), 87), Clbit(ClassicalRegister(224, 'c5'), 88), Clbit(ClassicalRegister(224, 'c5'), 89), Clbit(ClassicalRegister(224, 'c5'), 90), Clbit(ClassicalRegister(224, 'c5'), 91), Clbit(ClassicalRegister(224, 'c5'), 92), Clbit(ClassicalRegister(224, 'c5'), 93), Clbit(ClassicalRegister(224, 'c5'), 94), Clbit(ClassicalRegister(224, 'c5'), 95), Clbit(ClassicalRegister(224, 'c5'), 96), Clbit(ClassicalRegister(224, 'c5'), 97), Clbit(ClassicalRegister(224, 'c5'), 98), Clbit(ClassicalRegister(224, 'c5'), 99), Clbit(ClassicalRegister(224, 'c5'), 100), Clbit(ClassicalRegister(224, 'c5'), 101), Clbit(ClassicalRegister(224, 'c5'), 102), Clbit(ClassicalRegister(224, 'c5'), 103), Clbit(ClassicalRegister(224, 'c5'), 104), Clbit(ClassicalRegister(224, 'c5'), 105), Clbit(ClassicalRegister(224, 'c5'), 106), Clbit(ClassicalRegister(224, 'c5'), 107), Clbit(ClassicalRegister(224, 'c5'), 108), Clbit(ClassicalRegister(224, 'c5'), 109), Clbit(ClassicalRegister(224, 'c5'), 110), Clbit(ClassicalRegister(224, 'c5'), 111), Clbit(ClassicalRegister(224, 'c5'), 112), Clbit(ClassicalRegister(224, 'c5'), 113), Clbit(ClassicalRegister(224, 'c5'), 114), Clbit(ClassicalRegister(224, 'c5'), 115), Clbit(ClassicalRegister(224, 'c5'), 116), Clbit(ClassicalRegister(224, 'c5'), 117), Clbit(ClassicalRegister(224, 'c5'), 118), Clbit(ClassicalRegister(224, 'c5'), 119), Clbit(ClassicalRegister(224, 'c5'), 120), Clbit(ClassicalRegister(224, 'c5'), 121), Clbit(ClassicalRegister(224, 'c5'), 122), Clbit(ClassicalRegister(224, 'c5'), 123), Clbit(ClassicalRegister(224, 'c5'), 124), Clbit(ClassicalRegister(224, 'c5'), 125), Clbit(ClassicalRegister(224, 'c5'), 126), Clbit(ClassicalRegister(224, 'c5'), 127), Clbit(ClassicalRegister(224, 'c5'), 128), Clbit(ClassicalRegister(224, 'c5'), 129), Clbit(ClassicalRegister(224, 'c5'), 130), Clbit(ClassicalRegister(224, 'c5'), 131), Clbit(ClassicalRegister(224, 'c5'), 132), Clbit(ClassicalRegister(224, 'c5'), 133), Clbit(ClassicalRegister(224, 'c5'), 134), Clbit(ClassicalRegister(224, 'c5'), 135), Clbit(ClassicalRegister(224, 'c5'), 136), Clbit(ClassicalRegister(224, 'c5'), 137), Clbit(ClassicalRegister(224, 'c5'), 138), Clbit(ClassicalRegister(224, 'c5'), 139), Clbit(ClassicalRegister(224, 'c5'), 140), Clbit(ClassicalRegister(224, 'c5'), 141), Clbit(ClassicalRegister(224, 'c5'), 142), Clbit(ClassicalRegister(224, 'c5'), 143), Clbit(ClassicalRegister(224, 'c5'), 144), Clbit(ClassicalRegister(224, 'c5'), 145), Clbit(ClassicalRegister(224, 'c5'), 146), Clbit(ClassicalRegister(224, 'c5'), 147), Clbit(ClassicalRegister(224, 'c5'), 148), Clbit(ClassicalRegister(224, 'c5'), 149), Clbit(ClassicalRegister(224, 'c5'), 150), Clbit(ClassicalRegister(224, 'c5'), 151), Clbit(ClassicalRegister(224, 'c5'), 152), Clbit(ClassicalRegister(224, 'c5'), 153), Clbit(ClassicalRegister(224, 'c5'), 154), Clbit(ClassicalRegister(224, 'c5'), 155), Clbit(ClassicalRegister(224, 'c5'), 156), Clbit(ClassicalRegister(224, 'c5'), 157), Clbit(ClassicalRegister(224, 'c5'), 158), Clbit(ClassicalRegister(224, 'c5'), 159), Clbit(ClassicalRegister(224, 'c5'), 160), Clbit(ClassicalRegister(224, 'c5'), 161), Clbit(ClassicalRegister(224, 'c5'), 162), Clbit(ClassicalRegister(224, 'c5'), 163), Clbit(ClassicalRegister(224, 'c5'), 164), Clbit(ClassicalRegister(224, 'c5'), 165), Clbit(ClassicalRegister(224, 'c5'), 166), Clbit(ClassicalRegister(224, 'c5'), 167), Clbit(ClassicalRegister(224, 'c5'), 168), Clbit(ClassicalRegister(224, 'c5'), 169), Clbit(ClassicalRegister(224, 'c5'), 170), Clbit(ClassicalRegister(224, 'c5'), 171), Clbit(ClassicalRegister(224, 'c5'), 172), Clbit(ClassicalRegister(224, 'c5'), 173), Clbit(ClassicalRegister(224, 'c5'), 174), Clbit(ClassicalRegister(224, 'c5'), 175), Clbit(ClassicalRegister(224, 'c5'), 176), Clbit(ClassicalRegister(224, 'c5'), 177), Clbit(ClassicalRegister(224, 'c5'), 178), Clbit(ClassicalRegister(224, 'c5'), 179), Clbit(ClassicalRegister(224, 'c5'), 180), Clbit(ClassicalRegister(224, 'c5'), 181), Clbit(ClassicalRegister(224, 'c5'), 182), Clbit(ClassicalRegister(224, 'c5'), 183), Clbit(ClassicalRegister(224, 'c5'), 184), Clbit(ClassicalRegister(224, 'c5'), 185), Clbit(ClassicalRegister(224, 'c5'), 186), Clbit(ClassicalRegister(224, 'c5'), 187), Clbit(ClassicalRegister(224, 'c5'), 188), Clbit(ClassicalRegister(224, 'c5'), 189), Clbit(ClassicalRegister(224, 'c5'), 190), Clbit(ClassicalRegister(224, 'c5'), 191), Clbit(ClassicalRegister(224, 'c5'), 192), Clbit(ClassicalRegister(224, 'c5'), 193), Clbit(ClassicalRegister(224, 'c5'), 194), Clbit(ClassicalRegister(224, 'c5'), 195), Clbit(ClassicalRegister(224, 'c5'), 196), Clbit(ClassicalRegister(224, 'c5'), 197), Clbit(ClassicalRegister(224, 'c5'), 198), Clbit(ClassicalRegister(224, 'c5'), 199), Clbit(ClassicalRegister(224, 'c5'), 200), Clbit(ClassicalRegister(224, 'c5'), 201), Clbit(ClassicalRegister(224, 'c5'), 202), Clbit(ClassicalRegister(224, 'c5'), 203), Clbit(ClassicalRegister(224, 'c5'), 204), Clbit(ClassicalRegister(224, 'c5'), 205), Clbit(ClassicalRegister(224, 'c5'), 206), Clbit(ClassicalRegister(224, 'c5'), 207), Clbit(ClassicalRegister(224, 'c5'), 208), Clbit(ClassicalRegister(224, 'c5'), 209), Clbit(ClassicalRegister(224, 'c5'), 210), Clbit(ClassicalRegister(224, 'c5'), 211), Clbit(ClassicalRegister(224, 'c5'), 212), Clbit(ClassicalRegister(224, 'c5'), 213), Clbit(ClassicalRegister(224, 'c5'), 214), Clbit(ClassicalRegister(224, 'c5'), 215), Clbit(ClassicalRegister(224, 'c5'), 216), Clbit(ClassicalRegister(224, 'c5'), 217), Clbit(ClassicalRegister(224, 'c5'), 218), Clbit(ClassicalRegister(224, 'c5'), 219), Clbit(ClassicalRegister(224, 'c5'), 220), Clbit(ClassicalRegister(224, 'c5'), 221), Clbit(ClassicalRegister(224, 'c5'), 222), Clbit(ClassicalRegister(224, 'c5'), 223)]\n"
     ]
    }
   ],
   "source": [
    "# qugan_n450\n",
    "from qugan import QuGAN\n",
    "qugan_n450_qasm_fp = Path(\"/home/lty/workbench/quantum_compilation/quantum-chip-network/tests/benchmark/Bench/Dis_Bench/large/qugan_n450/qugan_n450.qasm\")\n",
    "qugan_n450_qc = QuGAN(450).run()\n",
    "basis_gates = [\"rz\", \"h\", \"x\", \"cx\", \"sx\"]\n",
    "translator = BasisTranslator(sel, basis_gates)\n",
    "out_qugan_n450_qc = translator(qugan_n450_qc)\n",
    "with open(qugan_n450_qasm_fp, \"w\") as f:\n",
    "    f.write(out_qugan_n450_qc.qasm())"
   ]
  },
  {
   "cell_type": "markdown",
   "metadata": {},
   "source": [
    "## Multipiler"
   ]
  },
  {
   "cell_type": "code",
   "execution_count": 3,
   "metadata": {},
   "outputs": [],
   "source": [
    "ori_multiplier_fp = Path(\"/home/lty/workbench/quantum_compilation/quantum-chip-network/tests/benchmark/Bench/Dis_Bench/zcz/multiplier_n50/multiplier_n50.qasm\")\n",
    "out_multiplier_fp = Path(\"/home/lty/workbench/quantum_compilation/quantum-chip-network/tests/benchmark/Bench/Dis_Bench/zcz/multiplier_n50/multiplier_n50.qasm\")\n",
    "multiplier_qc = QuantumCircuit.from_qasm_file(ori_multiplier_fp)\n",
    "basis_gates = [\"rz\", \"h\", \"x\", \"cx\", \"sx\"]\n",
    "translator = BasisTranslator(sel, basis_gates)\n",
    "out_qaoa_n400 = translator(multiplier_qc)\n",
    "with open(out_multiplier_fp, \"w\") as f:\n",
    "    f.write(out_qaoa_n400.qasm())"
   ]
  },
  {
   "cell_type": "markdown",
   "metadata": {},
   "source": [
    "## QFT"
   ]
  },
  {
   "cell_type": "code",
   "execution_count": 4,
   "metadata": {},
   "outputs": [],
   "source": [
    "# QFT_n45\n",
    "qft_n45_qc = QFT(\n",
    "    num_qubits=50,\n",
    "    approximation_degree=0,\n",
    "    do_swaps=False,\n",
    "    insert_barriers=False,\n",
    "    inverse=False,\n",
    "    name=None,\n",
    ")\n",
    "# pm = PassManager(\n",
    "#     [Decompose(), BasisTranslator(sel, [\"rz\", \"h\", \"x\", \"cx\", \"sx\"])]\n",
    "# )\n",
    "pm = PassManager(\n",
    "    [Decompose(), BasisTranslator(sel, [\"cx\", \"rz\", \"h\"])]\n",
    ")\n",
    "out_qft_n45_qc = pm.run(qft_n45_qc)\n",
    "\n",
    "qft_n45_qasm_fp = Path(\"/home/lty/workbench/quantum_compilation/quantum-chip-network/tests/benchmark/Bench/Dis_Bench/zcz/qft_n50/qft_n50.qasm\")\n",
    "with open(qft_n45_qasm_fp, \"w\") as f:\n",
    "    f.write(out_qft_n45_qc.qasm())"
   ]
  },
  {
   "cell_type": "code",
   "execution_count": 35,
   "metadata": {},
   "outputs": [],
   "source": [
    "# QFT_n130\n",
    "qft_n130_qc = QFT(\n",
    "    num_qubits=130,\n",
    "    approximation_degree=0,\n",
    "    do_swaps=False,\n",
    "    insert_barriers=False,\n",
    "    inverse=False,\n",
    "    name=None,\n",
    ")\n",
    "# pm = PassManager(\n",
    "#     [Decompose(), BasisTranslator(sel, [\"rz\", \"h\", \"x\", \"cx\", \"sx\"])]\n",
    "# )\n",
    "pm = PassManager(\n",
    "    [Decompose(), BasisTranslator(sel, [\"cx\", \"rz\", \"h\"])]\n",
    ")\n",
    "out_qft_n130_qc = pm.run(qft_n130_qc)\n",
    "\n",
    "qft_n130_qasm_fp = Path(\"/home/lty/workbench/quantum_compilation/quantum-chip-network/tests/benchmark/Bench/Dis_Bench/medium/qft_n130/qft_n130.qasm\")\n",
    "with open(qft_n130_qasm_fp, \"w\") as f:\n",
    "    f.write(out_qft_n130_qc.qasm())"
   ]
  },
  {
   "cell_type": "markdown",
   "metadata": {},
   "source": [
    "## QAOA"
   ]
  },
  {
   "cell_type": "code",
   "execution_count": 1,
   "metadata": {},
   "outputs": [],
   "source": [
    "\n",
    "# QAOA_n10\n",
    "from gen_qaoa import qaoa\n",
    "from pathlib import Path\n",
    "from qiskit.circuit.equivalence_library import StandardEquivalenceLibrary as sel\n",
    "from qiskit.transpiler import PassManager\n",
    "from qiskit.transpiler.passes import Decompose, BasisTranslator\n",
    "from qiskit import QuantumCircuit\n",
    "\n",
    "qaoa_n10_qasm_fp = Path(\"/home/lty/workbench/quantum_compilation/quantum-chip-network/tests/benchmark/qaoa_test.qasm\")\n",
    "# qc_algorithmic_level = get_benchmark(benchmark_name=\"qaoa\", level=\"indep\", circuit_size=30)\n",
    "# with open(obj_qasm_fp, \"w\") as f:\n",
    "#     f.write(qc_algorithmic_level.qasm())\n",
    "qaoa_n10_circ = qaoa(4, 2)\n",
    "basis_gates = [\"rz\", \"h\", \"x\", \"cx\", \"sx\"]\n",
    "translator = BasisTranslator(sel, basis_gates)\n",
    "out_qaoa_n10 = translator(qaoa_n10_circ)\n",
    "with open(qaoa_n10_qasm_fp, \"w\") as f:\n",
    "    f.write(out_qaoa_n10.qasm())"
   ]
  },
  {
   "cell_type": "code",
   "execution_count": 31,
   "metadata": {},
   "outputs": [],
   "source": [
    "# QAOA_n46\n",
    "qaoa_n46_qasm_fp = Path(\"/home/lty/workbench/quantum_compilation/quantum-chip-network/tests/benchmark/Bench/Dis_Bench/zcz/qaoa_n46_p10/qaoa_n46_p10.qasm\")\n",
    "# qc_algorithmic_level = get_benchmark(benchmark_name=\"qaoa\", level=\"indep\", circuit_size=30)\n",
    "# with open(obj_qasm_fp, \"w\") as f:\n",
    "#     f.write(qc_algorithmic_level.qasm())\n",
    "qaoa_n46_circ = qaoa(46, 10)\n",
    "basis_gates = [\"rz\", \"h\", \"x\", \"cx\", \"sx\"]\n",
    "translator = BasisTranslator(sel, basis_gates)\n",
    "out_qaoa_n46 = translator(qaoa_n46_circ)\n",
    "with open(qaoa_n46_qasm_fp, \"w\") as f:\n",
    "    f.write(out_qaoa_n46.qasm())"
   ]
  },
  {
   "cell_type": "code",
   "execution_count": 28,
   "metadata": {},
   "outputs": [],
   "source": [
    "# QAOA_n400\n",
    "qaoa_n400_qasm_fp = Path(\"/home/lty/workbench/quantum_compilation/quantum-chip-network/tests/benchmark/Bench/Dis_Bench/large/qaoa_n400_p40/qaoa_n400_p40.qasm\")\n",
    "# qc_algorithmic_level = get_benchmark(benchmark_name=\"qaoa\", level=\"indep\", circuit_size=30)\n",
    "# with open(obj_qasm_fp, \"w\") as f:\n",
    "#     f.write(qc_algorithmic_level.qasm())\n",
    "qaoa_n400_qc = qaoa(400, 40)\n",
    "basis_gates = [\"rz\", \"h\", \"x\", \"cx\", \"sx\"]\n",
    "translator = BasisTranslator(sel, basis_gates)\n",
    "out_qaoa_n400 = translator(qaoa_n400_qc)\n",
    "with open(qaoa_n400_qasm_fp, \"w\") as f:\n",
    "    f.write(out_qaoa_n400.qasm())"
   ]
  },
  {
   "cell_type": "code",
   "execution_count": 9,
   "metadata": {},
   "outputs": [],
   "source": [
    "obj_qasm_fp = Path(\"/home/lty/workbench/quantum_compilation/quantum-chip-network/tests/benchmark/Bench/large/su2random_n350_indep.qasm\")\n",
    "qc_algorithmic_level = get_benchmark(benchmark_name=\"su2random\", level=\"indep\", circuit_size=350)\n",
    "with open(obj_qasm_fp, \"w\") as f:\n",
    "    f.write(qc_algorithmic_level.qasm())"
   ]
  }
 ],
 "metadata": {
  "kernelspec": {
   "display_name": "quantum_env",
   "language": "python",
   "name": "python3"
  },
  "language_info": {
   "codemirror_mode": {
    "name": "ipython",
    "version": 3
   },
   "file_extension": ".py",
   "mimetype": "text/x-python",
   "name": "python",
   "nbconvert_exporter": "python",
   "pygments_lexer": "ipython3",
   "version": "3.8.16"
  }
 },
 "nbformat": 4,
 "nbformat_minor": 2
}
