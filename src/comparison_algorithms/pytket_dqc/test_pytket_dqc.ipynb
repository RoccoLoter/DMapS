{
 "cells": [
  {
   "cell_type": "code",
   "execution_count": 1,
   "metadata": {},
   "outputs": [
    {
     "name": "stdout",
     "output_type": "stream",
     "text": [
      "Qubit 0: 1\n",
      "Qubit 1: 1\n",
      "Qubit 2: 0\n",
      "Qubit 3: 3\n",
      "Qubit 4: 2\n",
      "Qubit 5: 3\n",
      "Qubit 6: 0\n",
      "Qubit 7: 1\n",
      "Qubit 8: 0\n",
      "Qubit 9: 1\n",
      "Qubit 10: 0\n",
      "Qubit 11: 2\n",
      "Qubit 12: 3\n"
     ]
    }
   ],
   "source": [
    "from comparison_algorithms.pytket_dqc.distributors.partitioning_heterogeneous import (\n",
    "    PartitioningAnnealing,\n",
    "    PartitioningHeterogeneous,\n",
    "    PartitioningHeterogeneousEmbedding\n",
    ")\n",
    "from pytket import Circuit, OpType\n",
    "from comparison_algorithms.pytket_dqc.networks.nisq_network import NISQNetwork\n",
    "from comparison_algorithms.pytket_dqc.utils.gateset import DQCPass\n",
    "from pytket import Circuit, OpType\n",
    "from comparison_algorithms.pytket_dqc.placement.placement import Placement\n",
    "from comparison_algorithms.pytket_dqc.distributors.distributor import Distribution\n",
    "from comparison_algorithms.pytket_dqc.distributors.cover_embedding import CoverEmbedding, CoverEmbeddingSteiner, CoverEmbeddingSteinerDetached\n",
    "from comparison_algorithms.pytket_dqc.circuits.hypergraph_circuit import HypergraphCircuit\n",
    "from pytket.circuit.display import render_circuit_jupyter\n",
    "\n",
    "\n",
    "network = NISQNetwork([[0, 1], [1, 3], [0,2], [2, 3]], {0: [0, 1], 1: [2,3], 2: [4, 5], 3: [6, 7]})\n",
    "circ = Circuit(7).CX(0, 1).CX(1,2).CX(1, 3).CX(3, 4).CX(3, 5).CX(1, 6)\n",
    "# render_circuit_jupyter(circ)\n",
    "DQCPass().apply(circ)\n",
    "# render_circuit_jupyter(circ)\n",
    "placement = PartitioningAnnealing().distribute(circ, network).placement.to_dict()\n",
    "sorted_dict = {k: placement[k] for k in sorted(placement, reverse=False)}\n",
    "for k, v in sorted_dict.items():\n",
    "    print(f\"Qubit {k}: {v}\")\n",
    "new_placement = {k : v for k, v in placement.items() if k < 7}"
   ]
  },
  {
   "cell_type": "code",
   "execution_count": 3,
   "metadata": {},
   "outputs": [
    {
     "ename": "AttributeError",
     "evalue": "'dict' object has no attribute 'is_valid'",
     "output_type": "error",
     "traceback": [
      "\u001b[0;31m---------------------------------------------------------------------------\u001b[0m",
      "\u001b[0;31mAttributeError\u001b[0m                            Traceback (most recent call last)",
      "Cell \u001b[0;32mIn[3], line 4\u001b[0m\n\u001b[1;32m      2\u001b[0m \u001b[38;5;66;03m# placement = Placement({0: 1, 1: 2, 2: 0, 3: 0, 4: 0})\u001b[39;00m\n\u001b[1;32m      3\u001b[0m distribution \u001b[38;5;241m=\u001b[39m Distribution(HypergraphCircuit(circ), new_placement, network)\n\u001b[0;32m----> 4\u001b[0m \u001b[38;5;28;01massert\u001b[39;00m \u001b[43mdistribution\u001b[49m\u001b[38;5;241;43m.\u001b[39;49m\u001b[43mis_valid\u001b[49m\u001b[43m(\u001b[49m\u001b[43m)\u001b[49m\n\u001b[1;32m      6\u001b[0m circ_with_dist \u001b[38;5;241m=\u001b[39m distribution\u001b[38;5;241m.\u001b[39mto_pytket_circuit()\n",
      "File \u001b[0;32m~/workbench/quantum_compilation/quantum-chip-network/src/comparison_algorithms/pytket_dqc/circuits/distribution.py:121\u001b[0m, in \u001b[0;36mDistribution.is_valid\u001b[0;34m(self)\u001b[0m\n\u001b[1;32m    117\u001b[0m \u001b[38;5;124;03m\"\"\"Check that this distribution can be implemented.\"\"\"\u001b[39;00m\n\u001b[1;32m    119\u001b[0m \u001b[38;5;66;03m# TODO: There may be some other checks that we want to do here to check\u001b[39;00m\n\u001b[1;32m    120\u001b[0m \u001b[38;5;66;03m# that the hypergraph is not totally nonsensical.\u001b[39;00m\n\u001b[0;32m--> 121\u001b[0m \u001b[38;5;28;01mreturn\u001b[39;00m \u001b[38;5;28;43mself\u001b[39;49m\u001b[38;5;241;43m.\u001b[39;49m\u001b[43mplacement\u001b[49m\u001b[38;5;241;43m.\u001b[39;49m\u001b[43mis_valid\u001b[49m(\u001b[38;5;28mself\u001b[39m\u001b[38;5;241m.\u001b[39mcircuit, \u001b[38;5;28mself\u001b[39m\u001b[38;5;241m.\u001b[39mnetwork)\n",
      "\u001b[0;31mAttributeError\u001b[0m: 'dict' object has no attribute 'is_valid'"
     ]
    }
   ],
   "source": [
    "placement = Placement(placement)\n",
    "# placement = Placement({0: 1, 1: 2, 2: 0, 3: 0, 4: 0})\n",
    "distribution = Distribution(HypergraphCircuit(circ), new_placement, network)\n",
    "assert distribution.is_valid()\n",
    "\n",
    "circ_with_dist = distribution.to_pytket_circuit()\n"
   ]
  },
  {
   "cell_type": "code",
   "execution_count": 40,
   "metadata": {},
   "outputs": [
    {
     "data": {
      "text/plain": [
       "{q[0]: server_1[0],\n",
       " q[1]: server_1[1],\n",
       " q[2]: server_0[0],\n",
       " q[3]: server_2[0],\n",
       " q[4]: server_3[0],\n",
       " q[5]: server_2[1],\n",
       " q[6]: server_0[1]}"
      ]
     },
     "execution_count": 40,
     "metadata": {},
     "output_type": "execute_result"
    }
   ],
   "source": [
    "distribution.get_qubit_mapping()"
   ]
  },
  {
   "cell_type": "code",
   "execution_count": 42,
   "metadata": {},
   "outputs": [
    {
     "data": {
      "text/plain": [
       "3"
      ]
     },
     "execution_count": 42,
     "metadata": {},
     "output_type": "execute_result"
    }
   ],
   "source": [
    "distribution.cost()"
   ]
  },
  {
   "cell_type": "code",
   "execution_count": 41,
   "metadata": {},
   "outputs": [
    {
     "data": {
      "text/html": [
       "\n",
       "\n",
       "\n",
       "\n",
       "\n",
       "\n",
       "<iframe srcdoc=\"\n",
       "&lt;!DOCTYPE html&gt;\n",
       "&lt;html lang=&#34;en&#34;&gt;\n",
       "&lt;head&gt;\n",
       "    &lt;meta charset=&#34;UTF-8&#34;&gt;\n",
       "    &lt;script type=&#34;application/javascript&#34; src=&#34;https://cdn.jsdelivr.net/npm/vue@3&#34;&gt;&lt;/script&gt;\n",
       "    &lt;script type=&#34;application/javascript&#34; src=&#34;https://unpkg.com/pytket-circuit-renderer@0.2/dist/pytket-circuit-renderer.umd.js&#34;&gt;&lt;/script&gt;\n",
       "    &lt;link rel=&#34;stylesheet&#34; href=&#34;https://unpkg.com/pytket-circuit-renderer@0.2/dist/pytket-circuit-renderer.css&#34;&gt;\n",
       "&lt;/head&gt;\n",
       "&lt;body&gt;\n",
       "    &lt;div id=&#34;circuit-display-vue-container-7926fe1a-7207-42f9-9dce-d036cca2d367&#34; class=&#34;pytket-circuit-display-container&#34;&gt;\n",
       "        &lt;div style=&#34;display: none&#34;&gt;\n",
       "            &lt;div id=&#34;circuit-json-to-display&#34;&gt;{&#34;bits&#34;: [], &#34;commands&#34;: [{&#34;args&#34;: [[&#34;server_0&#34;, [0]]], &#34;op&#34;: {&#34;params&#34;: [&#34;1.0&#34;], &#34;type&#34;: &#34;Rz&#34;}}, {&#34;args&#34;: [[&#34;server_0&#34;, [1]]], &#34;op&#34;: {&#34;params&#34;: [&#34;1.0&#34;], &#34;type&#34;: &#34;Rz&#34;}}, {&#34;args&#34;: [[&#34;server_1&#34;, [0]]], &#34;op&#34;: {&#34;params&#34;: [&#34;3&#34;], &#34;type&#34;: &#34;Rz&#34;}}, {&#34;args&#34;: [[&#34;server_1&#34;, [1]]], &#34;op&#34;: {&#34;params&#34;: [&#34;1.0&#34;], &#34;type&#34;: &#34;Rz&#34;}}, {&#34;args&#34;: [[&#34;server_2&#34;, [0]]], &#34;op&#34;: {&#34;params&#34;: [&#34;1.0&#34;], &#34;type&#34;: &#34;Rz&#34;}}, {&#34;args&#34;: [[&#34;server_2&#34;, [1]]], &#34;op&#34;: {&#34;params&#34;: [&#34;1.0&#34;], &#34;type&#34;: &#34;Rz&#34;}}, {&#34;args&#34;: [[&#34;server_3&#34;, [0]]], &#34;op&#34;: {&#34;params&#34;: [&#34;1.0&#34;], &#34;type&#34;: &#34;Rz&#34;}}, {&#34;args&#34;: [[&#34;server_0&#34;, [0]]], &#34;op&#34;: {&#34;type&#34;: &#34;H&#34;}}, {&#34;args&#34;: [[&#34;server_0&#34;, [1]]], &#34;op&#34;: {&#34;type&#34;: &#34;H&#34;}}, {&#34;args&#34;: [[&#34;server_1&#34;, [1]]], &#34;op&#34;: {&#34;type&#34;: &#34;H&#34;}}, {&#34;args&#34;: [[&#34;server_2&#34;, [0]]], &#34;op&#34;: {&#34;type&#34;: &#34;H&#34;}}, {&#34;args&#34;: [[&#34;server_2&#34;, [1]]], &#34;op&#34;: {&#34;type&#34;: &#34;H&#34;}}, {&#34;args&#34;: [[&#34;server_3&#34;, [0]]], &#34;op&#34;: {&#34;type&#34;: &#34;H&#34;}}, {&#34;args&#34;: [[&#34;server_2&#34;, [0]], [&#34;server_0_link_register&#34;, [1]]], &#34;op&#34;: {&#34;box&#34;: {&#34;gate&#34;: {&#34;args&#34;: [], &#34;definition&#34;: {&#34;bits&#34;: [], &#34;commands&#34;: [{&#34;args&#34;: [[&#34;q&#34;, [0]], [&#34;q&#34;, [1]]], &#34;op&#34;: {&#34;data&#34;: &#34;&#34;, &#34;signature&#34;: [&#34;Q&#34;, &#34;Q&#34;], &#34;type&#34;: &#34;Barrier&#34;}}], &#34;created_qubits&#34;: [], &#34;discarded_qubits&#34;: [], &#34;implicit_permutation&#34;: [[[&#34;q&#34;, [0]], [&#34;q&#34;, [0]]], [[&#34;q&#34;, [1]], [&#34;q&#34;, [1]]]], &#34;phase&#34;: &#34;0.0&#34;, &#34;qubits&#34;: [[&#34;q&#34;, [0]], [&#34;q&#34;, [1]]]}, &#34;name&#34;: &#34;starting_process&#34;}, &#34;id&#34;: &#34;b706c0c0-640a-4ee1-a6e9-475e6e20778c&#34;, &#34;params&#34;: [], &#34;type&#34;: &#34;CustomGate&#34;}, &#34;type&#34;: &#34;CustomGate&#34;}}, {&#34;args&#34;: [[&#34;server_1&#34;, [1]], [&#34;server_1&#34;, [0]]], &#34;op&#34;: {&#34;params&#34;: [&#34;1.0&#34;], &#34;type&#34;: &#34;CU1&#34;}}, {&#34;args&#34;: [[&#34;server_1&#34;, [1]]], &#34;op&#34;: {&#34;type&#34;: &#34;H&#34;}}, {&#34;args&#34;: [[&#34;server_1&#34;, [1]], [&#34;server_0_link_register&#34;, [0]]], &#34;op&#34;: {&#34;box&#34;: {&#34;gate&#34;: {&#34;args&#34;: [], &#34;definition&#34;: {&#34;bits&#34;: [], &#34;commands&#34;: [{&#34;args&#34;: [[&#34;q&#34;, [0]], [&#34;q&#34;, [1]]], &#34;op&#34;: {&#34;data&#34;: &#34;&#34;, &#34;signature&#34;: [&#34;Q&#34;, &#34;Q&#34;], &#34;type&#34;: &#34;Barrier&#34;}}], &#34;created_qubits&#34;: [], &#34;discarded_qubits&#34;: [], &#34;implicit_permutation&#34;: [[[&#34;q&#34;, [0]], [&#34;q&#34;, [0]]], [[&#34;q&#34;, [1]], [&#34;q&#34;, [1]]]], &#34;phase&#34;: &#34;0.0&#34;, &#34;qubits&#34;: [[&#34;q&#34;, [0]], [&#34;q&#34;, [1]]]}, &#34;name&#34;: &#34;starting_process&#34;}, &#34;id&#34;: &#34;d2f461fa-43b8-4251-ba5a-fac3c3b67411&#34;, &#34;params&#34;: [], &#34;type&#34;: &#34;CustomGate&#34;}, &#34;type&#34;: &#34;CustomGate&#34;}}, {&#34;args&#34;: [[&#34;server_0&#34;, [0]], [&#34;server_0_link_register&#34;, [0]]], &#34;op&#34;: {&#34;params&#34;: [&#34;1.0&#34;], &#34;type&#34;: &#34;CU1&#34;}}, {&#34;args&#34;: [[&#34;server_0&#34;, [0]]], &#34;op&#34;: {&#34;type&#34;: &#34;H&#34;}}, {&#34;args&#34;: [[&#34;server_0_link_register&#34;, [1]], [&#34;server_0_link_register&#34;, [0]]], &#34;op&#34;: {&#34;params&#34;: [&#34;1.0&#34;], &#34;type&#34;: &#34;CU1&#34;}}, {&#34;args&#34;: [[&#34;server_0&#34;, [0]]], &#34;op&#34;: {&#34;params&#34;: [&#34;-1.0&#34;], &#34;type&#34;: &#34;Rz&#34;}}, {&#34;args&#34;: [[&#34;server_0&#34;, [1]], [&#34;server_0_link_register&#34;, [0]]], &#34;op&#34;: {&#34;params&#34;: [&#34;1.0&#34;], &#34;type&#34;: &#34;CU1&#34;}}, {&#34;args&#34;: [[&#34;server_0_link_register&#34;, [1]], [&#34;server_2&#34;, [0]]], &#34;op&#34;: {&#34;box&#34;: {&#34;gate&#34;: {&#34;args&#34;: [], &#34;definition&#34;: {&#34;bits&#34;: [], &#34;commands&#34;: [{&#34;args&#34;: [[&#34;q&#34;, [0]], [&#34;q&#34;, [1]]], &#34;op&#34;: {&#34;data&#34;: &#34;&#34;, &#34;signature&#34;: [&#34;Q&#34;, &#34;Q&#34;], &#34;type&#34;: &#34;Barrier&#34;}}], &#34;created_qubits&#34;: [], &#34;discarded_qubits&#34;: [], &#34;implicit_permutation&#34;: [[[&#34;q&#34;, [0]], [&#34;q&#34;, [0]]], [[&#34;q&#34;, [1]], [&#34;q&#34;, [1]]]], &#34;phase&#34;: &#34;0.0&#34;, &#34;qubits&#34;: [[&#34;q&#34;, [0]], [&#34;q&#34;, [1]]]}, &#34;name&#34;: &#34;ending_process&#34;}, &#34;id&#34;: &#34;cdb2e358-9814-4312-bed7-65069ccba600&#34;, &#34;params&#34;: [], &#34;type&#34;: &#34;CustomGate&#34;}, &#34;type&#34;: &#34;CustomGate&#34;}}, {&#34;args&#34;: [[&#34;server_0&#34;, [1]]], &#34;op&#34;: {&#34;type&#34;: &#34;H&#34;}}, {&#34;args&#34;: [[&#34;server_0_link_register&#34;, [0]], [&#34;server_1&#34;, [1]]], &#34;op&#34;: {&#34;box&#34;: {&#34;gate&#34;: {&#34;args&#34;: [], &#34;definition&#34;: {&#34;bits&#34;: [], &#34;commands&#34;: [{&#34;args&#34;: [[&#34;q&#34;, [0]], [&#34;q&#34;, [1]]], &#34;op&#34;: {&#34;data&#34;: &#34;&#34;, &#34;signature&#34;: [&#34;Q&#34;, &#34;Q&#34;], &#34;type&#34;: &#34;Barrier&#34;}}], &#34;created_qubits&#34;: [], &#34;discarded_qubits&#34;: [], &#34;implicit_permutation&#34;: [[[&#34;q&#34;, [0]], [&#34;q&#34;, [0]]], [[&#34;q&#34;, [1]], [&#34;q&#34;, [1]]]], &#34;phase&#34;: &#34;0.0&#34;, &#34;qubits&#34;: [[&#34;q&#34;, [0]], [&#34;q&#34;, [1]]]}, &#34;name&#34;: &#34;ending_process&#34;}, &#34;id&#34;: &#34;fa42eae2-926e-4aab-8a36-bed203bea0ba&#34;, &#34;params&#34;: [], &#34;type&#34;: &#34;CustomGate&#34;}, &#34;type&#34;: &#34;CustomGate&#34;}}, {&#34;args&#34;: [[&#34;server_2&#34;, [0]]], &#34;op&#34;: {&#34;type&#34;: &#34;H&#34;}}, {&#34;args&#34;: [[&#34;server_0&#34;, [1]]], &#34;op&#34;: {&#34;params&#34;: [&#34;-1.0&#34;], &#34;type&#34;: &#34;Rz&#34;}}, {&#34;args&#34;: [[&#34;server_2&#34;, [0]]], &#34;op&#34;: {&#34;params&#34;: [&#34;1&#34;], &#34;type&#34;: &#34;Rz&#34;}}, {&#34;args&#34;: [[&#34;server_2&#34;, [0]], [&#34;server_3_link_register&#34;, [0]]], &#34;op&#34;: {&#34;box&#34;: {&#34;gate&#34;: {&#34;args&#34;: [], &#34;definition&#34;: {&#34;bits&#34;: [], &#34;commands&#34;: [{&#34;args&#34;: [[&#34;q&#34;, [0]], [&#34;q&#34;, [1]]], &#34;op&#34;: {&#34;data&#34;: &#34;&#34;, &#34;signature&#34;: [&#34;Q&#34;, &#34;Q&#34;], &#34;type&#34;: &#34;Barrier&#34;}}], &#34;created_qubits&#34;: [], &#34;discarded_qubits&#34;: [], &#34;implicit_permutation&#34;: [[[&#34;q&#34;, [0]], [&#34;q&#34;, [0]]], [[&#34;q&#34;, [1]], [&#34;q&#34;, [1]]]], &#34;phase&#34;: &#34;0.0&#34;, &#34;qubits&#34;: [[&#34;q&#34;, [0]], [&#34;q&#34;, [1]]]}, &#34;name&#34;: &#34;starting_process&#34;}, &#34;id&#34;: &#34;0b64520b-0b2d-4141-be12-6c00767f1ea5&#34;, &#34;params&#34;: [], &#34;type&#34;: &#34;CustomGate&#34;}, &#34;type&#34;: &#34;CustomGate&#34;}}, {&#34;args&#34;: [[&#34;server_2&#34;, [1]], [&#34;server_2&#34;, [0]]], &#34;op&#34;: {&#34;params&#34;: [&#34;1.0&#34;], &#34;type&#34;: &#34;CU1&#34;}}, {&#34;args&#34;: [[&#34;server_3&#34;, [0]], [&#34;server_3_link_register&#34;, [0]]], &#34;op&#34;: {&#34;params&#34;: [&#34;1.0&#34;], &#34;type&#34;: &#34;CU1&#34;}}, {&#34;args&#34;: [[&#34;server_3_link_register&#34;, [0]], [&#34;server_2&#34;, [0]]], &#34;op&#34;: {&#34;box&#34;: {&#34;gate&#34;: {&#34;args&#34;: [], &#34;definition&#34;: {&#34;bits&#34;: [], &#34;commands&#34;: [{&#34;args&#34;: [[&#34;q&#34;, [0]], [&#34;q&#34;, [1]]], &#34;op&#34;: {&#34;data&#34;: &#34;&#34;, &#34;signature&#34;: [&#34;Q&#34;, &#34;Q&#34;], &#34;type&#34;: &#34;Barrier&#34;}}], &#34;created_qubits&#34;: [], &#34;discarded_qubits&#34;: [], &#34;implicit_permutation&#34;: [[[&#34;q&#34;, [0]], [&#34;q&#34;, [0]]], [[&#34;q&#34;, [1]], [&#34;q&#34;, [1]]]], &#34;phase&#34;: &#34;0.0&#34;, &#34;qubits&#34;: [[&#34;q&#34;, [0]], [&#34;q&#34;, [1]]]}, &#34;name&#34;: &#34;ending_process&#34;}, &#34;id&#34;: &#34;f26e22d7-7b62-4f94-a0c1-2b72c5c91015&#34;, &#34;params&#34;: [], &#34;type&#34;: &#34;CustomGate&#34;}, &#34;type&#34;: &#34;CustomGate&#34;}}, {&#34;args&#34;: [[&#34;server_2&#34;, [1]]], &#34;op&#34;: {&#34;type&#34;: &#34;H&#34;}}, {&#34;args&#34;: [[&#34;server_3&#34;, [0]]], &#34;op&#34;: {&#34;type&#34;: &#34;H&#34;}}, {&#34;args&#34;: [[&#34;server_2&#34;, [1]]], &#34;op&#34;: {&#34;params&#34;: [&#34;-1.0&#34;], &#34;type&#34;: &#34;Rz&#34;}}, {&#34;args&#34;: [[&#34;server_3&#34;, [0]]], &#34;op&#34;: {&#34;params&#34;: [&#34;-1.0&#34;], &#34;type&#34;: &#34;Rz&#34;}}], &#34;created_qubits&#34;: [], &#34;discarded_qubits&#34;: [], &#34;implicit_permutation&#34;: [[[&#34;server_0&#34;, [0]], [&#34;server_0&#34;, [0]]], [[&#34;server_0&#34;, [1]], [&#34;server_0&#34;, [1]]], [[&#34;server_0_link_register&#34;, [0]], [&#34;server_0_link_register&#34;, [0]]], [[&#34;server_0_link_register&#34;, [1]], [&#34;server_0_link_register&#34;, [1]]], [[&#34;server_1&#34;, [0]], [&#34;server_1&#34;, [0]]], [[&#34;server_1&#34;, [1]], [&#34;server_1&#34;, [1]]], [[&#34;server_2&#34;, [0]], [&#34;server_2&#34;, [0]]], [[&#34;server_2&#34;, [1]], [&#34;server_2&#34;, [1]]], [[&#34;server_3&#34;, [0]], [&#34;server_3&#34;, [0]]], [[&#34;server_3_link_register&#34;, [0]], [&#34;server_3_link_register&#34;, [0]]]], &#34;phase&#34;: &#34;0.0&#34;, &#34;qubits&#34;: [[&#34;server_0&#34;, [0]], [&#34;server_0&#34;, [1]], [&#34;server_0_link_register&#34;, [0]], [&#34;server_0_link_register&#34;, [1]], [&#34;server_1&#34;, [0]], [&#34;server_1&#34;, [1]], [&#34;server_2&#34;, [0]], [&#34;server_2&#34;, [1]], [&#34;server_3&#34;, [0]], [&#34;server_3_link_register&#34;, [0]]]}&lt;/div&gt;\n",
       "        &lt;/div&gt;\n",
       "        &lt;circuit-display-container :circuit-element-str=&#34;&#39;#circuit-json-to-display&#39;&#34;&gt;&lt;/circuit-display-container&gt;\n",
       "    &lt;/div&gt;\n",
       "    &lt;script type=&#34;application/javascript&#34;&gt;\n",
       "        const { createApp } = Vue;\n",
       "        const circuitDisplayContainer = window[&#34;pytket-circuit-renderer&#34;].default;\n",
       "        // Init variables to be shared between circuit display instances\n",
       "        if (typeof window.pytketCircuitDisplays === &#34;undefined&#34;) {\n",
       "            window.pytketCircuitDisplays = {};\n",
       "        }\n",
       "        const uid = &#34;7926fe1a-7207-42f9-9dce-d036cca2d367&#34;;\n",
       "        // Create the root Vue component\n",
       "        window.pytketCircuitDisplays[uid] = createApp({\n",
       "            delimiters: [&#39;[[#&#39;, &#39;#]]&#39;],\n",
       "            components: { circuitDisplayContainer },\n",
       "        }).mount(&#34;#circuit-display-vue-container-&#34;+uid);\n",
       "    &lt;/script&gt;\n",
       "&lt;/body&gt;\n",
       "&lt;/html&gt;\n",
       "\"\n",
       "        width=\"100%\" height=\"200px\"\n",
       "        style=\"border: none; outline: none; resize: vertical; overflow: auto\"></iframe>\n",
       "\n"
      ],
      "text/plain": [
       "<IPython.core.display.HTML object>"
      ]
     },
     "metadata": {},
     "output_type": "display_data"
    }
   ],
   "source": [
    "render_circuit_jupyter(circ_with_dist)"
   ]
  },
  {
   "cell_type": "code",
   "execution_count": 145,
   "metadata": {},
   "outputs": [
    {
     "name": "stdout",
     "output_type": "stream",
     "text": [
      "OPENQASM 2.0;\n",
      "include \"qelib1.inc\";\n",
      "\n",
      "qreg server_0[2];\n",
      "qreg server_1[2];\n",
      "qreg server_1_link_register[1];\n",
      "qreg server_2[1];\n",
      "qreg server_2_link_register[1];\n",
      "rz(1.0*pi) server_0[0];\n",
      "rz(1.0*pi) server_0[1];\n",
      "rz(3.0*pi) server_1[0];\n",
      "rz(1.0*pi) server_1[1];\n",
      "rz(1.0*pi) server_2[0];\n",
      "h server_0[0];\n",
      "h server_0[1];\n",
      "h server_1[1];\n",
      "h server_2[0];\n",
      "barrier server_0[0],server_1_link_register[0];\n",
      "cu1(1.0*pi) server_1[1],server_1[0];\n",
      "h server_1[1];\n",
      "rz(1.0*pi) server_1[1];\n",
      "barrier server_1[1],server_2_link_register[0];\n",
      "cu1(1.0*pi) server_1_link_register[0],server_1[1];\n",
      "cu1(1.0*pi) server_2[0],server_2_link_register[0];\n",
      "barrier server_1_link_register[0],server_0[0];\n",
      "barrier server_2_link_register[0],server_1[1];\n",
      "h server_2[0];\n",
      "h server_0[0];\n",
      "rz(3.0*pi) server_2[0];\n",
      "cu1(1.0*pi) server_0[1],server_0[0];\n",
      "h server_0[1];\n",
      "rz(3.0*pi) server_0[1];\n",
      "\n"
     ]
    }
   ],
   "source": [
    "from pytket.qasm import circuit_to_qasm_str\n",
    "from pathlib import Path\n",
    "\n",
    "qasm_fp = Path(\"/home/lty/workbench/quantum_compilation/quantum-chip-network/src/comparison_algorithms/pytket_dqc/test.qasm\")\n",
    "print(circuit_to_qasm_str(circ_with_dist))"
   ]
  },
  {
   "cell_type": "code",
   "execution_count": 146,
   "metadata": {},
   "outputs": [],
   "source": [
    "with open(qasm_fp, \"w\") as f:\n",
    "    f.write(circuit_to_qasm_str(circ_with_dist))"
   ]
  },
  {
   "cell_type": "code",
   "execution_count": 140,
   "metadata": {},
   "outputs": [
    {
     "data": {
      "text/html": [
       "\n",
       "\n",
       "\n",
       "\n",
       "\n",
       "\n",
       "<iframe srcdoc=\"\n",
       "&lt;!DOCTYPE html&gt;\n",
       "&lt;html lang=&#34;en&#34;&gt;\n",
       "&lt;head&gt;\n",
       "    &lt;meta charset=&#34;UTF-8&#34;&gt;\n",
       "    &lt;script type=&#34;application/javascript&#34; src=&#34;https://cdn.jsdelivr.net/npm/vue@3&#34;&gt;&lt;/script&gt;\n",
       "    &lt;script type=&#34;application/javascript&#34; src=&#34;https://unpkg.com/pytket-circuit-renderer@0.2/dist/pytket-circuit-renderer.umd.js&#34;&gt;&lt;/script&gt;\n",
       "    &lt;link rel=&#34;stylesheet&#34; href=&#34;https://unpkg.com/pytket-circuit-renderer@0.2/dist/pytket-circuit-renderer.css&#34;&gt;\n",
       "&lt;/head&gt;\n",
       "&lt;body&gt;\n",
       "    &lt;div id=&#34;circuit-display-vue-container-b1a523aa-6d00-4d9c-9f3e-8846e06ca631&#34; class=&#34;pytket-circuit-display-container&#34;&gt;\n",
       "        &lt;div style=&#34;display: none&#34;&gt;\n",
       "            &lt;div id=&#34;circuit-json-to-display&#34;&gt;{&#34;bits&#34;: [], &#34;commands&#34;: [{&#34;args&#34;: [[&#34;server_0&#34;, [0]]], &#34;op&#34;: {&#34;params&#34;: [&#34;1.0&#34;], &#34;type&#34;: &#34;Rz&#34;}}, {&#34;args&#34;: [[&#34;server_0&#34;, [1]]], &#34;op&#34;: {&#34;params&#34;: [&#34;1.0&#34;], &#34;type&#34;: &#34;Rz&#34;}}, {&#34;args&#34;: [[&#34;server_1&#34;, [0]]], &#34;op&#34;: {&#34;params&#34;: [&#34;3&#34;], &#34;type&#34;: &#34;Rz&#34;}}, {&#34;args&#34;: [[&#34;server_1&#34;, [1]]], &#34;op&#34;: {&#34;params&#34;: [&#34;1.0&#34;], &#34;type&#34;: &#34;Rz&#34;}}, {&#34;args&#34;: [[&#34;server_2&#34;, [0]]], &#34;op&#34;: {&#34;params&#34;: [&#34;1.0&#34;], &#34;type&#34;: &#34;Rz&#34;}}, {&#34;args&#34;: [[&#34;server_0&#34;, [0]]], &#34;op&#34;: {&#34;type&#34;: &#34;H&#34;}}, {&#34;args&#34;: [[&#34;server_0&#34;, [1]]], &#34;op&#34;: {&#34;type&#34;: &#34;H&#34;}}, {&#34;args&#34;: [[&#34;server_1&#34;, [1]]], &#34;op&#34;: {&#34;type&#34;: &#34;H&#34;}}, {&#34;args&#34;: [[&#34;server_2&#34;, [0]]], &#34;op&#34;: {&#34;type&#34;: &#34;H&#34;}}, {&#34;args&#34;: [[&#34;server_0&#34;, [0]], [&#34;server_1_link_register&#34;, [0]]], &#34;op&#34;: {&#34;box&#34;: {&#34;gate&#34;: {&#34;args&#34;: [], &#34;definition&#34;: {&#34;bits&#34;: [], &#34;commands&#34;: [{&#34;args&#34;: [[&#34;q&#34;, [0]], [&#34;q&#34;, [1]]], &#34;op&#34;: {&#34;data&#34;: &#34;&#34;, &#34;signature&#34;: [&#34;Q&#34;, &#34;Q&#34;], &#34;type&#34;: &#34;Barrier&#34;}}], &#34;created_qubits&#34;: [], &#34;discarded_qubits&#34;: [], &#34;implicit_permutation&#34;: [[[&#34;q&#34;, [0]], [&#34;q&#34;, [0]]], [[&#34;q&#34;, [1]], [&#34;q&#34;, [1]]]], &#34;phase&#34;: &#34;0.0&#34;, &#34;qubits&#34;: [[&#34;q&#34;, [0]], [&#34;q&#34;, [1]]]}, &#34;name&#34;: &#34;starting_process&#34;}, &#34;id&#34;: &#34;a66b853f-bbc6-4208-9b91-bafe473c7fa0&#34;, &#34;params&#34;: [], &#34;type&#34;: &#34;CustomGate&#34;}, &#34;type&#34;: &#34;CustomGate&#34;}}, {&#34;args&#34;: [[&#34;server_1&#34;, [1]], [&#34;server_1&#34;, [0]]], &#34;op&#34;: {&#34;params&#34;: [&#34;1.0&#34;], &#34;type&#34;: &#34;CU1&#34;}}, {&#34;args&#34;: [[&#34;server_1&#34;, [1]]], &#34;op&#34;: {&#34;type&#34;: &#34;H&#34;}}, {&#34;args&#34;: [[&#34;server_1&#34;, [1]]], &#34;op&#34;: {&#34;params&#34;: [&#34;1&#34;], &#34;type&#34;: &#34;Rz&#34;}}, {&#34;args&#34;: [[&#34;server_1&#34;, [1]], [&#34;server_2_link_register&#34;, [0]]], &#34;op&#34;: {&#34;box&#34;: {&#34;gate&#34;: {&#34;args&#34;: [], &#34;definition&#34;: {&#34;bits&#34;: [], &#34;commands&#34;: [{&#34;args&#34;: [[&#34;q&#34;, [0]], [&#34;q&#34;, [1]]], &#34;op&#34;: {&#34;data&#34;: &#34;&#34;, &#34;signature&#34;: [&#34;Q&#34;, &#34;Q&#34;], &#34;type&#34;: &#34;Barrier&#34;}}], &#34;created_qubits&#34;: [], &#34;discarded_qubits&#34;: [], &#34;implicit_permutation&#34;: [[[&#34;q&#34;, [0]], [&#34;q&#34;, [0]]], [[&#34;q&#34;, [1]], [&#34;q&#34;, [1]]]], &#34;phase&#34;: &#34;0.0&#34;, &#34;qubits&#34;: [[&#34;q&#34;, [0]], [&#34;q&#34;, [1]]]}, &#34;name&#34;: &#34;starting_process&#34;}, &#34;id&#34;: &#34;479de4f0-b99b-4412-9a75-067117caa385&#34;, &#34;params&#34;: [], &#34;type&#34;: &#34;CustomGate&#34;}, &#34;type&#34;: &#34;CustomGate&#34;}}, {&#34;args&#34;: [[&#34;server_1_link_register&#34;, [0]], [&#34;server_1&#34;, [1]]], &#34;op&#34;: {&#34;params&#34;: [&#34;1.0&#34;], &#34;type&#34;: &#34;CU1&#34;}}, {&#34;args&#34;: [[&#34;server_2&#34;, [0]], [&#34;server_2_link_register&#34;, [0]]], &#34;op&#34;: {&#34;params&#34;: [&#34;1.0&#34;], &#34;type&#34;: &#34;CU1&#34;}}, {&#34;args&#34;: [[&#34;server_1_link_register&#34;, [0]], [&#34;server_0&#34;, [0]]], &#34;op&#34;: {&#34;box&#34;: {&#34;gate&#34;: {&#34;args&#34;: [], &#34;definition&#34;: {&#34;bits&#34;: [], &#34;commands&#34;: [{&#34;args&#34;: [[&#34;q&#34;, [0]], [&#34;q&#34;, [1]]], &#34;op&#34;: {&#34;data&#34;: &#34;&#34;, &#34;signature&#34;: [&#34;Q&#34;, &#34;Q&#34;], &#34;type&#34;: &#34;Barrier&#34;}}], &#34;created_qubits&#34;: [], &#34;discarded_qubits&#34;: [], &#34;implicit_permutation&#34;: [[[&#34;q&#34;, [0]], [&#34;q&#34;, [0]]], [[&#34;q&#34;, [1]], [&#34;q&#34;, [1]]]], &#34;phase&#34;: &#34;0.0&#34;, &#34;qubits&#34;: [[&#34;q&#34;, [0]], [&#34;q&#34;, [1]]]}, &#34;name&#34;: &#34;ending_process&#34;}, &#34;id&#34;: &#34;ce5be579-6b3b-482d-8a5d-db69e6219f23&#34;, &#34;params&#34;: [], &#34;type&#34;: &#34;CustomGate&#34;}, &#34;type&#34;: &#34;CustomGate&#34;}}, {&#34;args&#34;: [[&#34;server_2_link_register&#34;, [0]], [&#34;server_1&#34;, [1]]], &#34;op&#34;: {&#34;box&#34;: {&#34;gate&#34;: {&#34;args&#34;: [], &#34;definition&#34;: {&#34;bits&#34;: [], &#34;commands&#34;: [{&#34;args&#34;: [[&#34;q&#34;, [0]], [&#34;q&#34;, [1]]], &#34;op&#34;: {&#34;data&#34;: &#34;&#34;, &#34;signature&#34;: [&#34;Q&#34;, &#34;Q&#34;], &#34;type&#34;: &#34;Barrier&#34;}}], &#34;created_qubits&#34;: [], &#34;discarded_qubits&#34;: [], &#34;implicit_permutation&#34;: [[[&#34;q&#34;, [0]], [&#34;q&#34;, [0]]], [[&#34;q&#34;, [1]], [&#34;q&#34;, [1]]]], &#34;phase&#34;: &#34;0.0&#34;, &#34;qubits&#34;: [[&#34;q&#34;, [0]], [&#34;q&#34;, [1]]]}, &#34;name&#34;: &#34;ending_process&#34;}, &#34;id&#34;: &#34;b2c69d2c-0a5f-4fe9-bcb3-7c560726304b&#34;, &#34;params&#34;: [], &#34;type&#34;: &#34;CustomGate&#34;}, &#34;type&#34;: &#34;CustomGate&#34;}}, {&#34;args&#34;: [[&#34;server_2&#34;, [0]]], &#34;op&#34;: {&#34;type&#34;: &#34;H&#34;}}, {&#34;args&#34;: [[&#34;server_0&#34;, [0]]], &#34;op&#34;: {&#34;type&#34;: &#34;H&#34;}}, {&#34;args&#34;: [[&#34;server_2&#34;, [0]]], &#34;op&#34;: {&#34;params&#34;: [&#34;-1.0&#34;], &#34;type&#34;: &#34;Rz&#34;}}, {&#34;args&#34;: [[&#34;server_0&#34;, [1]], [&#34;server_0&#34;, [0]]], &#34;op&#34;: {&#34;params&#34;: [&#34;1.0&#34;], &#34;type&#34;: &#34;CU1&#34;}}, {&#34;args&#34;: [[&#34;server_0&#34;, [1]]], &#34;op&#34;: {&#34;type&#34;: &#34;H&#34;}}, {&#34;args&#34;: [[&#34;server_0&#34;, [1]]], &#34;op&#34;: {&#34;params&#34;: [&#34;-1.0&#34;], &#34;type&#34;: &#34;Rz&#34;}}], &#34;created_qubits&#34;: [], &#34;discarded_qubits&#34;: [], &#34;implicit_permutation&#34;: [[[&#34;server_0&#34;, [0]], [&#34;server_0&#34;, [0]]], [[&#34;server_0&#34;, [1]], [&#34;server_0&#34;, [1]]], [[&#34;server_1&#34;, [0]], [&#34;server_1&#34;, [0]]], [[&#34;server_1&#34;, [1]], [&#34;server_1&#34;, [1]]], [[&#34;server_1_link_register&#34;, [0]], [&#34;server_1_link_register&#34;, [0]]], [[&#34;server_2&#34;, [0]], [&#34;server_2&#34;, [0]]], [[&#34;server_2_link_register&#34;, [0]], [&#34;server_2_link_register&#34;, [0]]]], &#34;phase&#34;: &#34;0.0&#34;, &#34;qubits&#34;: [[&#34;server_0&#34;, [0]], [&#34;server_0&#34;, [1]], [&#34;server_1&#34;, [0]], [&#34;server_1&#34;, [1]], [&#34;server_1_link_register&#34;, [0]], [&#34;server_2&#34;, [0]], [&#34;server_2_link_register&#34;, [0]]]}&lt;/div&gt;\n",
       "        &lt;/div&gt;\n",
       "        &lt;circuit-display-container :circuit-element-str=&#34;&#39;#circuit-json-to-display&#39;&#34;&gt;&lt;/circuit-display-container&gt;\n",
       "    &lt;/div&gt;\n",
       "    &lt;script type=&#34;application/javascript&#34;&gt;\n",
       "        const { createApp } = Vue;\n",
       "        const circuitDisplayContainer = window[&#34;pytket-circuit-renderer&#34;].default;\n",
       "        // Init variables to be shared between circuit display instances\n",
       "        if (typeof window.pytketCircuitDisplays === &#34;undefined&#34;) {\n",
       "            window.pytketCircuitDisplays = {};\n",
       "        }\n",
       "        const uid = &#34;b1a523aa-6d00-4d9c-9f3e-8846e06ca631&#34;;\n",
       "        // Create the root Vue component\n",
       "        window.pytketCircuitDisplays[uid] = createApp({\n",
       "            delimiters: [&#39;[[#&#39;, &#39;#]]&#39;],\n",
       "            components: { circuitDisplayContainer },\n",
       "        }).mount(&#34;#circuit-display-vue-container-&#34;+uid);\n",
       "    &lt;/script&gt;\n",
       "&lt;/body&gt;\n",
       "&lt;/html&gt;\n",
       "\"\n",
       "        width=\"100%\" height=\"200px\"\n",
       "        style=\"border: none; outline: none; resize: vertical; overflow: auto\"></iframe>\n",
       "\n"
      ],
      "text/plain": [
       "<IPython.core.display.HTML object>"
      ]
     },
     "metadata": {},
     "output_type": "display_data"
    }
   ],
   "source": [
    "render_circuit_jupyter(circ_with_dist)"
   ]
  },
  {
   "cell_type": "code",
   "execution_count": 141,
   "metadata": {},
   "outputs": [
    {
     "data": {
      "text/plain": [
       "2"
      ]
     },
     "execution_count": 141,
     "metadata": {},
     "output_type": "execute_result"
    }
   ],
   "source": [
    "distribution.cost()"
   ]
  },
  {
   "cell_type": "code",
   "execution_count": null,
   "metadata": {},
   "outputs": [
    {
     "ename": "",
     "evalue": "",
     "output_type": "error",
     "traceback": [
      "\u001b[1;31m在当前单元格或上一个单元格中执行代码时 Kernel 崩溃。\n",
      "\u001b[1;31m请查看单元格中的代码，以确定故障的可能原因。\n",
      "\u001b[1;31m单击<a href='https://aka.ms/vscodeJupyterKernelCrash'>此处</a>了解详细信息。\n",
      "\u001b[1;31m有关更多详细信息，请查看 Jupyter <a href='command:jupyter.viewOutput'>log</a>。"
     ]
    }
   ],
   "source": [
    "from comparison_algorithms.pytket_dqc.distributors.partitioning_heterogeneous import (\n",
    "    PartitioningAnnealing,\n",
    "    PartitioningHeterogeneous,\n",
    "    PartitioningHeterogeneousEmbedding\n",
    ")\n",
    "from comparison_algorithms.pytket_dqc.networks.nisq_network import NISQNetwork\n",
    "from comparison_algorithms.pytket_dqc.utils.gateset import DQCPass\n",
    "from pytket import Circuit, OpType\n",
    "\n",
    "\n",
    "network = NISQNetwork([[0,1], [0,2]], {0:[0], 1:[1], 2:[2]})\n",
    "circ = Circuit(2)\n",
    "circ.add_gate(OpType.CU1, 1.0, [0, 1]).H(0).Rz(0.3,0).H(0).add_gate(OpType.CU1, 1.0, [0, 1])\n",
    "# circ = Circuit(7).CX(0,1).CX(1,2).CX(2,3).CX(3,4).CX(4,5).CX(5, 6)\n",
    "# pass_circ = DQCPass().apply(circ)\n",
    "\n",
    "distribution = PartitioningHeterogeneousEmbedding().distribute(circ, network)"
   ]
  },
  {
   "cell_type": "code",
   "execution_count": 8,
   "metadata": {},
   "outputs": [
    {
     "name": "stdout",
     "output_type": "stream",
     "text": [
      "{0: 0, 2: 0, 3: 0, 1: 0}\n"
     ]
    }
   ],
   "source": [
    "print(distribution.placement.to_dict())"
   ]
  },
  {
   "cell_type": "code",
   "execution_count": 1,
   "metadata": {},
   "outputs": [
    {
     "name": "stdout",
     "output_type": "stream",
     "text": [
      "{0: [0, 1, 3, 5, 11, 22, 23, 31, 40, 55, 64, 77, 79, 83, 84, 90, 91, 107, 128, 136, 137, 144, 145, 148], 1: [6, 16, 19, 21, 24, 34, 35, 43, 45, 47, 58, 59, 62, 72, 74, 81, 93, 97, 98, 100, 103, 106, 113, 114, 121, 123, 131], 5: [4, 37, 42, 44, 50, 53, 60, 63, 65, 78, 86, 89, 99, 104, 108, 109, 112, 115, 120, 122, 124, 126, 127, 134, 140, 141, 142], 4: [7, 9, 13, 14, 20, 26, 29, 32, 36, 38, 39, 48, 54, 57, 82, 116, 117, 135, 143, 146, 149], 2: [2, 8, 10, 12, 27, 28, 30, 33, 46, 61, 66, 69, 70, 71, 73, 85, 87, 88, 92, 94, 96, 101, 111, 118, 125, 129, 130], 3: [15, 17, 18, 25, 41, 49, 51, 52, 56, 67, 68, 75, 76, 80, 95, 102, 105, 110, 119, 132, 133, 138, 139, 147]}\n"
     ]
    }
   ],
   "source": [
    "\n",
    "from pathlib import Path\n",
    "from qiskit import QuantumCircuit\n",
    "from comparison_algorithms.pytket_dqc.init_pytket_dqc_map import tket_dqc_map\n",
    "from frontend.chips_info_reader import QuHardwareInfoReader\n",
    "qasm_fp = Path(\n",
    "    \"/home/lty/workbench/quantum_compilation/quantum-chip-network/tests/benchmark/Bench/Dis_Bench/medium/qaoa_n150_p20/qaoa_n150_p20.qasm\"\n",
    ")\n",
    "config_fp = Path(\n",
    "    \"/home/lty/workbench/quantum_compilation/quantum-chip-network/tests/hardware_info/medium_chip_net/medium_chip_net_starRing_two_rmCoupling_6mumbai.json\"\n",
    ")\n",
    "qu_circ = QuantumCircuit.from_qasm_file(qasm_fp)\n",
    "chips_net_obj = QuHardwareInfoReader(config_fp)\n",
    "_, chips_network = chips_net_obj.get_hardware_info(chip_type=\"ibm\")\n",
    "time_cost, qubit_group_res, init_map = tket_dqc_map(qu_circ, chips_network)\n",
    "print(qubit_group_res)"
   ]
  },
  {
   "cell_type": "code",
   "execution_count": 2,
   "metadata": {},
   "outputs": [
    {
     "name": "stderr",
     "output_type": "stream",
     "text": [
      "INFO:qiskit.compiler.assembler:Total Assembly Time - 0.21958 (ms)\n",
      "INFO:qiskit.compiler.assembler:Total Assembly Time - 0.05174 (ms)\n",
      "INFO:qiskit.compiler.assembler:Total Assembly Time - 0.04292 (ms)\n",
      "INFO:qiskit.compiler.assembler:Total Assembly Time - 0.04172 (ms)\n",
      "INFO:qiskit.compiler.assembler:Total Assembly Time - 0.03958 (ms)\n",
      "INFO:qiskit.compiler.assembler:Total Assembly Time - 0.04029 (ms)\n",
      "INFO:qiskit.compiler.assembler:Total Assembly Time - 0.03934 (ms)\n",
      "INFO:qiskit.compiler.assembler:Total Assembly Time - 0.04101 (ms)\n",
      "INFO:qiskit.compiler.assembler:Total Assembly Time - 0.04387 (ms)\n",
      "INFO:qiskit.compiler.assembler:Total Assembly Time - 0.04053 (ms)\n",
      "INFO:qiskit.compiler.assembler:Total Assembly Time - 0.04101 (ms)\n",
      "/tmp/ipykernel_2994759/1681829850.py:28: DeprecationWarning: Back-references to from Bit instances to their containing Registers have been deprecated. Instead, inspect Registers to find their contained Bits.\n",
      "  vq_idx_list = [q.index for q in qiskit_circ.qubits]\n"
     ]
    }
   ],
   "source": [
    "from comparison_algorithms.pytket_dqc.distributors.partitioning_heterogeneous import (\n",
    "    PartitioningAnnealing,\n",
    ")\n",
    "from pytket import Circuit\n",
    "from pytket.qasm import circuit_from_qasm\n",
    "from pytket.extensions.qiskit import qiskit_to_tk\n",
    "from qiskit import QuantumCircuit\n",
    "from comparison_algorithms.pytket_dqc.networks.nisq_network import NISQNetwork\n",
    "from comparison_algorithms.pytket_dqc.utils.gateset import DQCPass\n",
    "from pathlib import Path\n",
    "from global_config import repo_path, tests_path\n",
    "\n",
    "from frontend.chips_info_reader import QuHardwareInfoReader\n",
    "config_fp = Path(\"/home/lty/workbench/quantum_compilation/quantum-chip-network/tests/hardware_info/medium_chip_net/medium_chip_net_starRing_two_rmCoupling_6mumbai.json\")\n",
    "chips_net_obj = QuHardwareInfoReader(config_fp)\n",
    "_, chips_network = chips_net_obj.get_hardware_info(chip_type=\"ibm\")\n",
    "chip_topology_graph = chips_network.obtain_chip_network()\n",
    "server_coupling = []\n",
    "edges = chip_topology_graph.edges()\n",
    "for edge in edges:\n",
    "    if [edge[0], edge[1]] not in server_coupling and [edge[1], edge[0]] not in server_coupling:\n",
    "        server_coupling.append([edge[0], edge[1]])\n",
    "server_qubits = chips_network.get_each_chip_qubits_idx()\n",
    "network = NISQNetwork(server_coupling=server_coupling, server_qubits=server_qubits)\n",
    "\n",
    "qasm_fp = Path(\"/home/lty/workbench/quantum_compilation/quantum-chip-network/tests/benchmark/Bench/medium/useful/cat_n130_transpiled.qasm\")\n",
    "qiskit_circ = QuantumCircuit.from_qasm_file(qasm_fp)\n",
    "vq_idx_list = [q.index for q in qiskit_circ.qubits]\n",
    "circ = qiskit_to_tk(qiskit_circ)\n",
    "# circ = Circuit(3).CZ(0, 1).CZ(1, 2)\n",
    "DQCPass().apply(circ)\n",
    "# network = NISQNetwork(\n",
    "#     server_coupling=[[0, 1], [1, 2]],\n",
    "#     server_qubits={0: [0], 1: [1], 2: [2]},\n",
    "# )\n",
    "\n",
    "circ_partitioner = PartitioningAnnealing()\n",
    "res = circ_partitioner.distribute(circ, network)"
   ]
  },
  {
   "cell_type": "code",
   "execution_count": 36,
   "metadata": {},
   "outputs": [
    {
     "name": "stdout",
     "output_type": "stream",
     "text": [
      "used nodes: [5]\n",
      "neighbors: [0, 1, 2, 3, 4]\n",
      "used nodes: [5, 4]\n",
      "neighbors: [0, 1, 2, 3]\n",
      "used nodes: [5, 4, 3]\n",
      "neighbors: [0, 1, 2]\n"
     ]
    }
   ],
   "source": [
    "num_vqubits = 100\n",
    "chip_topology_graph = chips_network.obtain_chip_network()\n",
    "# ep_capacity = chips_network.get_each_chip_capacity()\n",
    "ep_capacity= {0:27, 1:27, 2: 27, 3: 28, 4: 29, 5:30}\n",
    "\n",
    "sorted_ep_capacity = sorted(ep_capacity.items(), key=lambda x: x[1], reverse=True)\n",
    "# print(sorted_ep_capacity)\n",
    "add_sum_pqubits = sorted_ep_capacity[0][1]\n",
    "used_nodes = [sorted_ep_capacity[0][0]]\n",
    "while add_sum_pqubits < num_vqubits:\n",
    "    neighbor_nodes = []\n",
    "\n",
    "    for used_node in used_nodes:\n",
    "        for neighbor_node in chip_topology_graph.neighbors(used_node):\n",
    "            if neighbor_node not in used_nodes and neighbor_node not in neighbor_nodes:\n",
    "                neighbor_nodes.append(neighbor_node)\n",
    "    \n",
    "    sorted_neighbor_nodes = sorted(neighbor_nodes, key=lambda node: ep_capacity[node], reverse=True)\n",
    "\n",
    "    print(\"used nodes:\",used_nodes)\n",
    "    print(\"neighbors:\",neighbor_nodes)\n",
    "\n",
    "    add_sum_pqubits += ep_capacity[sorted_neighbor_nodes[0]]\n",
    "    used_nodes.append(sorted_neighbor_nodes[0])\n",
    "# print(used_nodes)"
   ]
  },
  {
   "cell_type": "code",
   "execution_count": 1,
   "metadata": {},
   "outputs": [],
   "source": [
    "from pathlib import Path\n",
    "from qiskit import QuantumCircuit\n",
    "from frontend.chips_info_reader import QuHardwareInfoReader\n",
    "from comparison_algorithms.pytket_dqc.init_pytket_dqc_map import tket_dqc_map\n",
    "qasm_fp = Path(\"/home/lty/workbench/quantum_compilation/quantum-chip-network/tests/benchmark/Bench/medium/useful/cat_n130_transpiled.qasm\")\n",
    "config_fp = Path(\"/home/lty/workbench/quantum_compilation/quantum-chip-network/tests/hardware_info/medium_chip_net/medium_chip_net_starRing_two_rmCoupling_6mumbai.json\")\n",
    "\n",
    "qu_circ = QuantumCircuit.from_qasm_file(qasm_fp)\n",
    "chips_net_obj = QuHardwareInfoReader(config_fp)\n",
    "_, chips_network = chips_net_obj.get_hardware_info(chip_type=\"ibm\")\n",
    "qubit_group_res, init_map = tket_dqc_map(qu_circ, chips_network)"
   ]
  },
  {
   "cell_type": "code",
   "execution_count": 3,
   "metadata": {},
   "outputs": [
    {
     "data": {
      "text/plain": [
       "{5: [14,\n",
       "  15,\n",
       "  16,\n",
       "  17,\n",
       "  39,\n",
       "  58,\n",
       "  59,\n",
       "  93,\n",
       "  94,\n",
       "  95,\n",
       "  96,\n",
       "  97,\n",
       "  98,\n",
       "  99,\n",
       "  100,\n",
       "  101,\n",
       "  106,\n",
       "  107,\n",
       "  108,\n",
       "  117,\n",
       "  118,\n",
       "  119,\n",
       "  120,\n",
       "  121,\n",
       "  122,\n",
       "  123],\n",
       " 0: [25,\n",
       "  26,\n",
       "  27,\n",
       "  28,\n",
       "  29,\n",
       "  30,\n",
       "  31,\n",
       "  32,\n",
       "  33,\n",
       "  34,\n",
       "  82,\n",
       "  83,\n",
       "  84,\n",
       "  85,\n",
       "  86,\n",
       "  102,\n",
       "  103,\n",
       "  104,\n",
       "  105,\n",
       "  124,\n",
       "  125,\n",
       "  126,\n",
       "  127,\n",
       "  128,\n",
       "  129],\n",
       " 1: [18,\n",
       "  19,\n",
       "  20,\n",
       "  21,\n",
       "  22,\n",
       "  23,\n",
       "  24,\n",
       "  35,\n",
       "  36,\n",
       "  37,\n",
       "  38,\n",
       "  54,\n",
       "  55,\n",
       "  56,\n",
       "  57,\n",
       "  78,\n",
       "  79,\n",
       "  80,\n",
       "  81,\n",
       "  87,\n",
       "  88,\n",
       "  89,\n",
       "  90,\n",
       "  91,\n",
       "  92],\n",
       " 2: [0,\n",
       "  1,\n",
       "  2,\n",
       "  3,\n",
       "  4,\n",
       "  5,\n",
       "  6,\n",
       "  40,\n",
       "  41,\n",
       "  42,\n",
       "  43,\n",
       "  44,\n",
       "  45,\n",
       "  46,\n",
       "  47,\n",
       "  48,\n",
       "  49,\n",
       "  50,\n",
       "  51,\n",
       "  52,\n",
       "  53,\n",
       "  72,\n",
       "  73,\n",
       "  74,\n",
       "  75,\n",
       "  76,\n",
       "  77],\n",
       " 3: [7,\n",
       "  8,\n",
       "  9,\n",
       "  10,\n",
       "  11,\n",
       "  12,\n",
       "  13,\n",
       "  60,\n",
       "  61,\n",
       "  62,\n",
       "  63,\n",
       "  64,\n",
       "  65,\n",
       "  66,\n",
       "  67,\n",
       "  68,\n",
       "  69,\n",
       "  70,\n",
       "  71,\n",
       "  109,\n",
       "  110,\n",
       "  111,\n",
       "  112,\n",
       "  113,\n",
       "  114,\n",
       "  115,\n",
       "  116]}"
      ]
     },
     "execution_count": 3,
     "metadata": {},
     "output_type": "execute_result"
    }
   ],
   "source": [
    "qubit_group_res"
   ]
  },
  {
   "cell_type": "code",
   "execution_count": 2,
   "metadata": {},
   "outputs": [
    {
     "data": {
      "text/plain": [
       "{Qubit(QuantumRegister(130, 'q'), 0): 54,\n",
       " Qubit(QuantumRegister(130, 'q'), 1): 55,\n",
       " Qubit(QuantumRegister(130, 'q'), 2): 56,\n",
       " Qubit(QuantumRegister(130, 'q'), 3): 57,\n",
       " Qubit(QuantumRegister(130, 'q'), 4): 58,\n",
       " Qubit(QuantumRegister(130, 'q'), 5): 59,\n",
       " Qubit(QuantumRegister(130, 'q'), 6): 60,\n",
       " Qubit(QuantumRegister(130, 'q'), 7): 81,\n",
       " Qubit(QuantumRegister(130, 'q'), 8): 82,\n",
       " Qubit(QuantumRegister(130, 'q'), 9): 83,\n",
       " Qubit(QuantumRegister(130, 'q'), 10): 84,\n",
       " Qubit(QuantumRegister(130, 'q'), 11): 85,\n",
       " Qubit(QuantumRegister(130, 'q'), 12): 86,\n",
       " Qubit(QuantumRegister(130, 'q'), 13): 87,\n",
       " Qubit(QuantumRegister(130, 'q'), 14): 135,\n",
       " Qubit(QuantumRegister(130, 'q'), 15): 136,\n",
       " Qubit(QuantumRegister(130, 'q'), 16): 137,\n",
       " Qubit(QuantumRegister(130, 'q'), 17): 138,\n",
       " Qubit(QuantumRegister(130, 'q'), 18): 27,\n",
       " Qubit(QuantumRegister(130, 'q'), 19): 28,\n",
       " Qubit(QuantumRegister(130, 'q'), 20): 29,\n",
       " Qubit(QuantumRegister(130, 'q'), 21): 30,\n",
       " Qubit(QuantumRegister(130, 'q'), 22): 31,\n",
       " Qubit(QuantumRegister(130, 'q'), 23): 32,\n",
       " Qubit(QuantumRegister(130, 'q'), 24): 33,\n",
       " Qubit(QuantumRegister(130, 'q'), 25): 0,\n",
       " Qubit(QuantumRegister(130, 'q'), 26): 1,\n",
       " Qubit(QuantumRegister(130, 'q'), 27): 2,\n",
       " Qubit(QuantumRegister(130, 'q'), 28): 3,\n",
       " Qubit(QuantumRegister(130, 'q'), 29): 4,\n",
       " Qubit(QuantumRegister(130, 'q'), 30): 5,\n",
       " Qubit(QuantumRegister(130, 'q'), 31): 6,\n",
       " Qubit(QuantumRegister(130, 'q'), 32): 7,\n",
       " Qubit(QuantumRegister(130, 'q'), 33): 8,\n",
       " Qubit(QuantumRegister(130, 'q'), 34): 9,\n",
       " Qubit(QuantumRegister(130, 'q'), 35): 34,\n",
       " Qubit(QuantumRegister(130, 'q'), 36): 35,\n",
       " Qubit(QuantumRegister(130, 'q'), 37): 36,\n",
       " Qubit(QuantumRegister(130, 'q'), 38): 37,\n",
       " Qubit(QuantumRegister(130, 'q'), 39): 139,\n",
       " Qubit(QuantumRegister(130, 'q'), 40): 61,\n",
       " Qubit(QuantumRegister(130, 'q'), 41): 62,\n",
       " Qubit(QuantumRegister(130, 'q'), 42): 63,\n",
       " Qubit(QuantumRegister(130, 'q'), 43): 64,\n",
       " Qubit(QuantumRegister(130, 'q'), 44): 65,\n",
       " Qubit(QuantumRegister(130, 'q'), 45): 66,\n",
       " Qubit(QuantumRegister(130, 'q'), 46): 67,\n",
       " Qubit(QuantumRegister(130, 'q'), 47): 68,\n",
       " Qubit(QuantumRegister(130, 'q'), 48): 69,\n",
       " Qubit(QuantumRegister(130, 'q'), 49): 70,\n",
       " Qubit(QuantumRegister(130, 'q'), 50): 71,\n",
       " Qubit(QuantumRegister(130, 'q'), 51): 72,\n",
       " Qubit(QuantumRegister(130, 'q'), 52): 73,\n",
       " Qubit(QuantumRegister(130, 'q'), 53): 74,\n",
       " Qubit(QuantumRegister(130, 'q'), 54): 38,\n",
       " Qubit(QuantumRegister(130, 'q'), 55): 39,\n",
       " Qubit(QuantumRegister(130, 'q'), 56): 40,\n",
       " Qubit(QuantumRegister(130, 'q'), 57): 41,\n",
       " Qubit(QuantumRegister(130, 'q'), 58): 140,\n",
       " Qubit(QuantumRegister(130, 'q'), 59): 141,\n",
       " Qubit(QuantumRegister(130, 'q'), 60): 88,\n",
       " Qubit(QuantumRegister(130, 'q'), 61): 89,\n",
       " Qubit(QuantumRegister(130, 'q'), 62): 90,\n",
       " Qubit(QuantumRegister(130, 'q'), 63): 91,\n",
       " Qubit(QuantumRegister(130, 'q'), 64): 92,\n",
       " Qubit(QuantumRegister(130, 'q'), 65): 93,\n",
       " Qubit(QuantumRegister(130, 'q'), 66): 94,\n",
       " Qubit(QuantumRegister(130, 'q'), 67): 95,\n",
       " Qubit(QuantumRegister(130, 'q'), 68): 96,\n",
       " Qubit(QuantumRegister(130, 'q'), 69): 97,\n",
       " Qubit(QuantumRegister(130, 'q'), 70): 98,\n",
       " Qubit(QuantumRegister(130, 'q'), 71): 99,\n",
       " Qubit(QuantumRegister(130, 'q'), 72): 75,\n",
       " Qubit(QuantumRegister(130, 'q'), 73): 76,\n",
       " Qubit(QuantumRegister(130, 'q'), 74): 77,\n",
       " Qubit(QuantumRegister(130, 'q'), 75): 78,\n",
       " Qubit(QuantumRegister(130, 'q'), 76): 79,\n",
       " Qubit(QuantumRegister(130, 'q'), 77): 80,\n",
       " Qubit(QuantumRegister(130, 'q'), 78): 42,\n",
       " Qubit(QuantumRegister(130, 'q'), 79): 43,\n",
       " Qubit(QuantumRegister(130, 'q'), 80): 44,\n",
       " Qubit(QuantumRegister(130, 'q'), 81): 45,\n",
       " Qubit(QuantumRegister(130, 'q'), 82): 10,\n",
       " Qubit(QuantumRegister(130, 'q'), 83): 11,\n",
       " Qubit(QuantumRegister(130, 'q'), 84): 12,\n",
       " Qubit(QuantumRegister(130, 'q'), 85): 13,\n",
       " Qubit(QuantumRegister(130, 'q'), 86): 14,\n",
       " Qubit(QuantumRegister(130, 'q'), 87): 46,\n",
       " Qubit(QuantumRegister(130, 'q'), 88): 47,\n",
       " Qubit(QuantumRegister(130, 'q'), 89): 48,\n",
       " Qubit(QuantumRegister(130, 'q'), 90): 49,\n",
       " Qubit(QuantumRegister(130, 'q'), 91): 50,\n",
       " Qubit(QuantumRegister(130, 'q'), 92): 51,\n",
       " Qubit(QuantumRegister(130, 'q'), 93): 142,\n",
       " Qubit(QuantumRegister(130, 'q'), 94): 143,\n",
       " Qubit(QuantumRegister(130, 'q'), 95): 144,\n",
       " Qubit(QuantumRegister(130, 'q'), 96): 145,\n",
       " Qubit(QuantumRegister(130, 'q'), 97): 146,\n",
       " Qubit(QuantumRegister(130, 'q'), 98): 147,\n",
       " Qubit(QuantumRegister(130, 'q'), 99): 148,\n",
       " Qubit(QuantumRegister(130, 'q'), 100): 149,\n",
       " Qubit(QuantumRegister(130, 'q'), 101): 150,\n",
       " Qubit(QuantumRegister(130, 'q'), 102): 15,\n",
       " Qubit(QuantumRegister(130, 'q'), 103): 16,\n",
       " Qubit(QuantumRegister(130, 'q'), 104): 17,\n",
       " Qubit(QuantumRegister(130, 'q'), 105): 18,\n",
       " Qubit(QuantumRegister(130, 'q'), 106): 151,\n",
       " Qubit(QuantumRegister(130, 'q'), 107): 152,\n",
       " Qubit(QuantumRegister(130, 'q'), 108): 153,\n",
       " Qubit(QuantumRegister(130, 'q'), 109): 100,\n",
       " Qubit(QuantumRegister(130, 'q'), 110): 101,\n",
       " Qubit(QuantumRegister(130, 'q'), 111): 102,\n",
       " Qubit(QuantumRegister(130, 'q'), 112): 103,\n",
       " Qubit(QuantumRegister(130, 'q'), 113): 104,\n",
       " Qubit(QuantumRegister(130, 'q'), 114): 105,\n",
       " Qubit(QuantumRegister(130, 'q'), 115): 106,\n",
       " Qubit(QuantumRegister(130, 'q'), 116): 107,\n",
       " Qubit(QuantumRegister(130, 'q'), 117): 154,\n",
       " Qubit(QuantumRegister(130, 'q'), 118): 155,\n",
       " Qubit(QuantumRegister(130, 'q'), 119): 156,\n",
       " Qubit(QuantumRegister(130, 'q'), 120): 157,\n",
       " Qubit(QuantumRegister(130, 'q'), 121): 158,\n",
       " Qubit(QuantumRegister(130, 'q'), 122): 159,\n",
       " Qubit(QuantumRegister(130, 'q'), 123): 160,\n",
       " Qubit(QuantumRegister(130, 'q'), 124): 19,\n",
       " Qubit(QuantumRegister(130, 'q'), 125): 20,\n",
       " Qubit(QuantumRegister(130, 'q'), 126): 21,\n",
       " Qubit(QuantumRegister(130, 'q'), 127): 22,\n",
       " Qubit(QuantumRegister(130, 'q'), 128): 23,\n",
       " Qubit(QuantumRegister(130, 'q'), 129): 24}"
      ]
     },
     "execution_count": 2,
     "metadata": {},
     "output_type": "execute_result"
    }
   ],
   "source": [
    "\n",
    "init_map"
   ]
  }
 ],
 "metadata": {
  "kernelspec": {
   "display_name": "quantum_env",
   "language": "python",
   "name": "python3"
  },
  "language_info": {
   "codemirror_mode": {
    "name": "ipython",
    "version": 3
   },
   "file_extension": ".py",
   "mimetype": "text/x-python",
   "name": "python",
   "nbconvert_exporter": "python",
   "pygments_lexer": "ipython3",
   "version": "3.8.16"
  }
 },
 "nbformat": 4,
 "nbformat_minor": 2
}
